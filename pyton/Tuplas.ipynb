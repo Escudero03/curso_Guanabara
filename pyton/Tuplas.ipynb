{
 "cells": [
  {
   "cell_type": "markdown",
   "metadata": {},
   "source": [
    "# TUPLAS - aula 16 \n"
   ]
  },
  {
   "cell_type": "code",
   "execution_count": 1,
   "metadata": {},
   "outputs": [
    {
     "name": "stdout",
     "output_type": "stream",
     "text": [
      "eu vou comer hamburguer\n",
      "eu vou comer suco\n",
      "eu vou comer pizza\n",
      "eu vou comer pudim\n",
      "comi pra caramba !!!\n"
     ]
    }
   ],
   "source": [
    "lanche = ('hamburguer', 'suco', 'pizza', 'pudim')\n",
    "for comida in lanche:\n",
    "    print(f'eu vou comer {comida}')\n",
    "print('comi pra caramba !!!')"
   ]
  },
  {
   "cell_type": "code",
   "execution_count": 2,
   "metadata": {},
   "outputs": [
    {
     "name": "stdout",
     "output_type": "stream",
     "text": [
      "eu vou comer hamburguer\n",
      "eu vou comer suco\n",
      "eu vou comer pizza\n",
      "eu vou comer pudim\n",
      "comi pra caramba !!!\n"
     ]
    }
   ],
   "source": [
    "lanche = ('hamburguer', 'suco', 'pizza', 'pudim')\n",
    "for cont in range(0, len(lanche)):\n",
    "    print(f'eu vou comer {lanche[cont]}')\n",
    "print('comi pra caramba !!!')"
   ]
  },
  {
   "cell_type": "code",
   "execution_count": 4,
   "metadata": {},
   "outputs": [
    {
     "name": "stdout",
     "output_type": "stream",
     "text": [
      "eu vou comer hamburguer na posição 0\n",
      "eu vou comer suco na posição 1\n",
      "eu vou comer pizza na posição 2\n",
      "eu vou comer pudim na posição 3\n",
      "comi pra caramba !!!\n"
     ]
    }
   ],
   "source": [
    "lanche = ('hamburguer', 'suco', 'pizza', 'pudim')\n",
    "for pos, comida in enumerate(lanche):\n",
    "    print(f'eu vou comer {comida} na posição {pos}')\n",
    "print('comi pra caramba !!!')"
   ]
  },
  {
   "cell_type": "markdown",
   "metadata": {},
   "source": [
    "sorted nao altera a tupla so embaralha"
   ]
  },
  {
   "cell_type": "code",
   "execution_count": 6,
   "metadata": {},
   "outputs": [
    {
     "name": "stdout",
     "output_type": "stream",
     "text": [
      "['batata frita', 'hamburguer', 'pizza', 'pudim', 'suco']\n",
      "('hamburguer', 'suco', 'pizza', 'pudim', 'batata frita')\n"
     ]
    }
   ],
   "source": [
    "lanche = ('hamburguer', 'suco', 'pizza', 'pudim', 'batata frita')\n",
    "print(sorted(lanche))\n",
    "print(lanche)"
   ]
  },
  {
   "cell_type": "code",
   "execution_count": 15,
   "metadata": {},
   "outputs": [
    {
     "name": "stdout",
     "output_type": "stream",
     "text": [
      "(2, 5, 4, 5, 8, 1, 2)\n",
      "quantos elementos  tem :  7\n",
      "2\n",
      "4\n"
     ]
    }
   ],
   "source": [
    "a = (2, 5, 4)\n",
    "b = (5, 8, 1, 2,)\n",
    "c = a + b\n",
    "print(c)\n",
    "print('quantos elementos  tem : ', len(c))\n",
    "print(c.count(5)) # quantas vezes esta aparecendo o numero 5\n",
    "print(c.index(8)) # em que posição esta o numero 8 "
   ]
  },
  {
   "cell_type": "markdown",
   "metadata": {},
   "source": [
    "# Desafio 72\n",
    "Crie um programa que tenha uma tupla totalmente preenchida  com uma contagem  por esntesao  do zero ate vinte .\n",
    "Seu programa  devera ler um numero  pelo teclado (entre 0 e 20 ) e mostra-lo por extenso \n"
   ]
  },
  {
   "cell_type": "code",
   "execution_count": 4,
   "metadata": {},
   "outputs": [
    {
     "name": "stdout",
     "output_type": "stream",
     "text": [
      "tente novamente, tente novamente, tente novamente, vc digitou o numero cinco\n"
     ]
    }
   ],
   "source": [
    "cont = ('zero', 'um', 'dois', 'tres', 'quatro', 'cinco', 'seis', 'sete', \n",
    "        'oito', 'nove', 'dez', 'onze', ' doze', 'treze', ' quatorze',\n",
    "        'quinze', 'desesseis', 'desessete', 'desoito', 'dezenove', 'vinte')\n",
    "while True:\n",
    "    num = int(input('digite um numero de 0 a 20: '))\n",
    "    if 0 <= num <= 20:\n",
    "        break\n",
    "    print('tente novamente, ' , end='')\n",
    "print(f'vc digitou o numero {cont[num]}')\n"
   ]
  },
  {
   "cell_type": "markdown",
   "metadata": {},
   "source": [
    "# Desafio 73\n",
    "Crie uma tupla prenechida com os 20 primeiros  colocados  da tabela  do campeonato brasileiro  de futebol , na ordem de colocação. depois mostre:\n",
    "- a) apenas os 5 primeiros colocados\n",
    "- b) os ultimos 4 colocados da tabela \n",
    "- c) Uma lista com os times em ordem alfabeticas\n",
    "- d) em que posição na tabela esta o time da chapecoense  "
   ]
  },
  {
   "cell_type": "code",
   "execution_count": 9,
   "metadata": {},
   "outputs": [
    {
     "name": "stdout",
     "output_type": "stream",
     "text": [
      "-=--=--=--=--=--=--=--=--=--=--=--=--=--=--=-\n",
      "lista de times ('corinthians', 'palmeiras', 'santos', 'gremio', 'cruzeiro', 'flamengo', 'vasco', 'chapecoense', 'athetico', 'botafogo', 'atletico-pr', 'bahia', 'sao paulo', 'fluminense', 'sport', 'recife', 'ec vitoria', 'coritiba', ' avai', 'ponte preta', 'atletico-go')\n",
      "-=--=--=--=--=--=--=--=--=--=--=--=--=--=--=-\n",
      "os cinco primeirtos times ('corinthians', 'palmeiras', 'santos', 'gremio', 'cruzeiro')\n",
      "-=--=--=--=--=--=--=--=--=--=--=--=--=--=--=-\n",
      "os quatros ultimos sao ('coritiba', ' avai', 'ponte preta', 'atletico-go')\n",
      "-=--=--=--=--=--=--=--=--=--=--=--=--=--=--=-\n",
      "times em ordem alfabeticas: [' avai', 'athetico', 'atletico-go', 'atletico-pr', 'bahia', 'botafogo', 'chapecoense', 'corinthians', 'coritiba', 'cruzeiro', 'ec vitoria', 'flamengo', 'fluminense', 'gremio', 'palmeiras', 'ponte preta', 'recife', 'santos', 'sao paulo', 'sport', 'vasco']\n",
      "o chapecoense esta na 8ª posição\n"
     ]
    }
   ],
   "source": [
    "times = ('corinthians', 'palmeiras', 'santos', 'gremio', \n",
    "         'cruzeiro', 'flamengo', 'vasco', 'chapecoense', \n",
    "         'athetico', 'botafogo', 'atletico-pr', 'bahia', \n",
    "         'sao paulo', 'fluminense', 'sport', 'recife',\n",
    "         'ec vitoria', 'coritiba', ' avai', 'ponte preta',\n",
    "         'atletico-go')\n",
    "print('-=-' *15)\n",
    "print(f'lista de times {times}')\n",
    "print('-=-' *15)\n",
    "print(f'os cinco primeirtos times {times[0:5]}')\n",
    "print('-=-' *15)\n",
    "print(f'os quatros ultimos sao {times[-4:]}')\n",
    "print('-=-' *15)\n",
    "print(f'times em ordem alfabeticas: {sorted(times)}')\n",
    "print(f'o chapecoense esta na {times.index(\"chapecoense\")+1}ª posição')\n"
   ]
  },
  {
   "cell_type": "markdown",
   "metadata": {},
   "source": [
    "# Desafio 74\n",
    "Crie um programa que vai gerar cinco numeros aleatorios  e colocar em uma tupla .\n",
    "Depois disso , mostre a listagem de numeros  gerados e tambem  indique o menor e o maior valor que estao na tupla "
   ]
  },
  {
   "cell_type": "code",
   "execution_count": 76,
   "metadata": {},
   "outputs": [
    {
     "name": "stdout",
     "output_type": "stream",
     "text": [
      "os valores sorteados foram :93119\n",
      " o maior valor sorteado foi 9\n",
      " o menor valor sorteado foi 1\n"
     ]
    }
   ],
   "source": [
    "from random import randint\n",
    "numeros = randint(1, 10), randint(1, 10), randint(1, 10), randint(1, 10), randint(1, 10)\n",
    "print(f'os valores sorteados foram :', end=  '' )\n",
    "for n in numeros:\n",
    "    print(f'{n}', end='')\n",
    "print(f'\\n o maior valor sorteado foi {max(numeros)}')\n",
    "print(f' o menor valor sorteado foi {min(numeros)}')"
   ]
  },
  {
   "cell_type": "markdown",
   "metadata": {},
   "source": [
    "# Desafio 75\n",
    "Desenvolva um programa que leia 4 valores pelo teclado e guarde os em uma tupla . no final mostre:\n",
    "- a) quantas vezes apareceu o valor 9 \n",
    "- b) em que posição foi digitada o primeiro valor 3\n",
    "- c) quais foram os numeros pares "
   ]
  },
  {
   "cell_type": "code",
   "execution_count": 79,
   "metadata": {},
   "outputs": [
    {
     "name": "stdout",
     "output_type": "stream",
     "text": [
      "vc digitou os valores (6, 7, 3, 3)\n",
      "o calor 9 apareceu 0 vezes\n",
      " o valor 3 apareceu na 3ª posção\n",
      "osa valores pares digitados foram 6"
     ]
    }
   ],
   "source": [
    "num = (int(input('digite um numero:')),\n",
    "       int(input('digite outro numero:')),\n",
    "       int(input('digite mais um numero:')),\n",
    "       int(input('digite o ultimo numero:')))\n",
    "print(f'vc digitou os valores {num}')\n",
    "print(f'o valor 9 apareceu {num.count(9)} vezes')\n",
    "if 3 in num:\n",
    "    print(f' o valor 3 apareceu na {num.index(3)+1}ª posição')\n",
    "else:\n",
    "    print(f'o valor 3 nao digitado em nenhuma posição !')\n",
    "print('os valores pares digitados foram ', end='') \n",
    "for n in num:\n",
    "    if n % 2 == 0:\n",
    "        print(n, end='')   "
   ]
  },
  {
   "cell_type": "markdown",
   "metadata": {},
   "source": [
    "# Desafio 76\n",
    "Crie um program que tenha uma tupla unica com nomes de produtos e seus respectivos  preços , na sequencia . No fnal mostre uma listagem de preços , organizando os dados em forma tabular"
   ]
  },
  {
   "cell_type": "code",
   "execution_count": 93,
   "metadata": {},
   "outputs": [
    {
     "name": "stdout",
     "output_type": "stream",
     "text": [
      "---------------------------------------\n",
      "           LISTAGEM DE PREÇO            \n",
      "---------------------------------------\n",
      "lapis.........................R$   1.75\n",
      "borracha......................R$   2.00\n",
      "caderno.......................R$  15.90\n",
      "estojo........................R$  25.00\n",
      "transferidor..................R$   4.20\n",
      "compasso......................R$   9.99\n",
      "mochila.......................R$ 120.32\n",
      "canetas.......................R$  22.30\n",
      "livro.........................R$  34.90\n"
     ]
    }
   ],
   "source": [
    "listagem = ('lapis', 1.75,\n",
    "            'borracha', 2,\n",
    "            'caderno', 15.90,\n",
    "            'estojo', 25,\n",
    "            'transferidor', 4.20,\n",
    "            'compasso', 9.99,\n",
    "            'mochila', 120.32,\n",
    "            'canetas', 22.30,\n",
    "            'livro', 34.90 )\n",
    "print('-'*39)\n",
    "print(f'{\"LISTAGEM DE PREÇO\":^40}')\n",
    "print('-'*39)\n",
    "for pos in range(0, len(listagem)):\n",
    "    if pos % 2 == 0:\n",
    "        print(f'{listagem[pos]:.<30}' , end='')\n",
    "    else:\n",
    "        print(f'R${listagem[pos]:>7.2f}')\n",
    "\n"
   ]
  },
  {
   "cell_type": "markdown",
   "metadata": {},
   "source": [
    "# Desafio 77\n",
    "Crie um programa que tenha uma tupla com varias palavras ( nao use acentos ) depois disso vc deve mostrar , para cada palavra , quais sao as suas vogais"
   ]
  },
  {
   "cell_type": "code",
   "execution_count": 98,
   "metadata": {},
   "outputs": [
    {
     "name": "stdout",
     "output_type": "stream",
     "text": [
      "\n",
      " na palavra APRENDER temos  a e e \n",
      " na palavra PROGRAMAR temos  o a a \n",
      " na palavra LINGUAGEM temos  i u a e \n",
      " na palavra PYTON temos  o \n",
      " na palavra CURSO temos  u o \n",
      " na palavra GRATIS temos  a i \n",
      " na palavra  ESTUDAR temos    e u a \n",
      " na palavra PRATICAR temos  a i a \n",
      " na palavra TRABALHAR temos  a a a \n",
      " na palavra MERCADO temos  e a o \n",
      " na palavra PROGRAMADOR temos  o a a o \n",
      " na palavra FUTURO temos  u u o "
     ]
    }
   ],
   "source": [
    "palavras = ('aprender', 'programar', 'linguagem', 'pyton',\n",
    "            'curso', 'gratis', ' estudar', 'praticar',\n",
    "            'trabalhar', 'mercado', 'programador', 'futuro')\n",
    "for p in palavras:\n",
    "    print(f'\\n na palavra {p.upper()} temos ', end=' ')\n",
    "    for letra in p:\n",
    "        if letra.lower() in 'a e i o u':\n",
    "            print(letra, end=' ')"
   ]
  }
 ],
 "metadata": {
  "kernelspec": {
   "display_name": "Python 3",
   "language": "python",
   "name": "python3"
  },
  "language_info": {
   "codemirror_mode": {
    "name": "ipython",
    "version": 3
   },
   "file_extension": ".py",
   "mimetype": "text/x-python",
   "name": "python",
   "nbconvert_exporter": "python",
   "pygments_lexer": "ipython3",
   "version": "3.12.3"
  }
 },
 "nbformat": 4,
 "nbformat_minor": 2
}
