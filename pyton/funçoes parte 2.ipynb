{
 "cells": [
  {
   "cell_type": "markdown",
   "metadata": {},
   "source": [
    "# Aula 21  Funçoes parte 2"
   ]
  },
  {
   "cell_type": "code",
   "execution_count": null,
   "metadata": {},
   "outputs": [],
   "source": [
    "help()"
   ]
  },
  {
   "cell_type": "code",
   "execution_count": null,
   "metadata": {},
   "outputs": [],
   "source": [
    "print(input.__doc__)\n",
    "help(input)"
   ]
  },
  {
   "cell_type": "markdown",
   "metadata": {},
   "source": [
    "# criando docstreng"
   ]
  },
  {
   "cell_type": "code",
   "execution_count": 10,
   "metadata": {},
   "outputs": [
    {
     "name": "stdout",
     "output_type": "stream",
     "text": [
      "12Fim\n",
      "Help on function contador in module __main__:\n",
      "\n",
      "contador(i, f, p)\n",
      "    \" função criada por jose Escudero\n",
      "\n"
     ]
    }
   ],
   "source": [
    "def contador(i, f, p):\n",
    "    \"\"\"\" função criada por jose Escudero  \n",
    "    \"\"\"\n",
    "    c = 1 \n",
    "    while c<= f :\n",
    "        print(f'{c}', end='')\n",
    "        c += p\n",
    "    print('Fim')\n",
    "\n",
    "contador(10, 2, 1)\n",
    "\n",
    "help(contador)"
   ]
  },
  {
   "cell_type": "markdown",
   "metadata": {},
   "source": [
    "# Parametros opcionais "
   ]
  },
  {
   "cell_type": "code",
   "execution_count": 1,
   "metadata": {},
   "outputs": [
    {
     "name": "stdout",
     "output_type": "stream",
     "text": [
      " A soma vale 11\n"
     ]
    }
   ],
   "source": [
    "def somar(a=0, b=0, c=0):\n",
    "    s = a +b + c\n",
    "    print(f' A soma vale {s}')\n",
    "\n",
    "somar(3, 3, 5)"
   ]
  },
  {
   "cell_type": "markdown",
   "metadata": {},
   "source": [
    "# Esacopo de variaveis "
   ]
  },
  {
   "cell_type": "code",
   "execution_count": 2,
   "metadata": {},
   "outputs": [
    {
     "name": "stdout",
     "output_type": "stream",
     "text": [
      " N1 dentro vale 4\n",
      "N1 fora vale 2 \n"
     ]
    }
   ],
   "source": [
    "def funçaõ():\n",
    "    n1 = 4\n",
    "    print(f' N1 dentro vale {n1}')\n",
    "\n",
    "n1 = 2\n",
    "funçaõ()\n",
    "print(f'N1 fora vale 2 ')\n"
   ]
  },
  {
   "cell_type": "markdown",
   "metadata": {},
   "source": [
    "# Retorno de valores "
   ]
  },
  {
   "cell_type": "code",
   "execution_count": 4,
   "metadata": {},
   "outputs": [
    {
     "name": "stdout",
     "output_type": "stream",
     "text": [
      " os resultados foram 10, 4, 6\n"
     ]
    }
   ],
   "source": [
    "def somar(a=0, b=0, c=0):\n",
    "    s= a + b + c\n",
    "    return s\n",
    "\n",
    "r1 = somar(3, 2, 5)\n",
    "r2 = somar(2, 2)\n",
    "r3 = somar(6)\n",
    "\n",
    "print(f' os resultados foram {r1}, {r2}, {r3}')"
   ]
  },
  {
   "cell_type": "code",
   "execution_count": 12,
   "metadata": {},
   "outputs": [
    {
     "name": "stdout",
     "output_type": "stream",
     "text": [
      " o fatorial de 2 é igual a 2\n",
      " os resultados sao 120, 24, 1\n"
     ]
    }
   ],
   "source": [
    "def fatorial(num=1):\n",
    "    f = 1\n",
    "    for c in range(num, 0, -1):\n",
    "        f *= c\n",
    "    return f\n",
    "\n",
    "n = int(input('digite um numero: '))\n",
    "print(f' o fatorial de {n} é igual a {fatorial(n)}')\n",
    "\n",
    "f1 = fatorial(5)\n",
    "f2 = fatorial(4)\n",
    "f3 = fatorial()\n",
    "print(f' os resultados sao {f1}, {f2}, {f3}')"
   ]
  },
  {
   "cell_type": "markdown",
   "metadata": {},
   "source": [
    "# Desafio 101 \n",
    "\n",
    "Crie um programa quer tenha uma funçao  chamada voto() que vai receber como parametro o ano denascimento de uma pessoa , retornando um valor literal  indicando  se uma pessoa  tem voto , Negado , Opicional ou Obrigatorio nas eleiçoes "
   ]
  },
  {
   "cell_type": "code",
   "execution_count": 19,
   "metadata": {},
   "outputs": [
    {
     "name": "stdout",
     "output_type": "stream",
     "text": [
      " Com 24 anos : VOTO OBRIGATORIO\n",
      " Com 74 anos: VOTO OPICIONAL.\n",
      "com 4 anos: NAO VOTA.\n",
      "-=-=-=-=-=-=-=-=-=-=-=-=-=-=-=\n",
      " Com 41 anos : VOTO OBRIGATORIO\n"
     ]
    }
   ],
   "source": [
    "def voto(ano):\n",
    "    from datetime import date\n",
    "    atual = date.today().year\n",
    "    idade = atual - ano\n",
    "    if idade < 16:\n",
    "        return f'com {idade} anos: NAO VOTA.'\n",
    "    elif 16 <= idade < 18 or idade > 65:\n",
    "        return f' Com {idade} anos: VOTO OPICIONAL.'\n",
    "    else:\n",
    "        return f' Com {idade} anos : VOTO OBRIGATORIO'\n",
    "    \n",
    "print(voto(2000))\n",
    "print(voto(1950))\n",
    "print(voto(2020))\n",
    "print('-='*15)\n",
    "\n",
    "nasc = int(input(' em que ano vc nasceu ?: '))\n",
    "print(voto(nasc))\n"
   ]
  },
  {
   "cell_type": "markdown",
   "metadata": {},
   "source": [
    "# Desafio 102\n",
    "Crie um programa  que tenha uma função  fatorial() que receba dois parametros : o primeito que indique  o numero a calcular  e o outro chamado  show,  que sera um valor logico (opicional) indicando se sera mostrado  ou nao na tela  o processo de  calculo fatorial  \n"
   ]
  },
  {
   "cell_type": "code",
   "execution_count": 30,
   "metadata": {},
   "outputs": [
    {
     "name": "stdout",
     "output_type": "stream",
     "text": [
      "5x4x3x2x1 = 120\n",
      "-=-=-=-=-=-=-=-=-=-=-=-=-=-=-=\n",
      "120\n",
      "-=-=-=-=-=-=-=-=-=-=-=-=-=-=-=\n",
      "Help on function fatorial in module __main__:\n",
      "\n",
      "fatorial(n, show=False)\n",
      "    - calcule o farotrial de um numero .\n",
      "    para n: o numero a ser calculado\n",
      "    para show: ( opicional ) mostrar ou nao a conta\n",
      "    return: o valor do fatorial\n",
      "\n"
     ]
    }
   ],
   "source": [
    "def fatorial(n, show=False):\n",
    "    \"\"\"\n",
    "    - calcule o farotrial de um numero .\n",
    "    para n: o numero a ser calculado\n",
    "    para show: ( opicional ) mostrar ou nao a conta \n",
    "    return: o valor do fatorial\n",
    "    \n",
    "    \"\"\"\n",
    "    f = 1\n",
    "    for c in range(n, 0, -1):\n",
    "        if show:\n",
    "           print(c, end='')\n",
    "           if c > 1:\n",
    "               print('x', end='')\n",
    "           else:\n",
    "               print(' = ', end='')\n",
    "        f *= c \n",
    "    return f\n",
    "\n",
    "print(fatorial(5, show=True))\n",
    "print('-=' * 15)\n",
    "print(fatorial(5))\n",
    "print('-=' * 15)\n",
    "help(fatorial)"
   ]
  },
  {
   "cell_type": "markdown",
   "metadata": {},
   "source": [
    "# Desafio 103 \n",
    "Façã um programa qure tenha uma funçã ochamado ficha () que receba dois parametros  opicionasi : o nome  dee um jogador  e quantos gols ele marcou.\n",
    "\n",
    "O programa devwera  ser capaz  de mostrar  a ficha do jogador , mesmo que algum dado  nao tenha sido  informado  corretamente. \n"
   ]
  },
  {
   "cell_type": "code",
   "execution_count": 34,
   "metadata": {},
   "outputs": [
    {
     "name": "stdout",
     "output_type": "stream",
     "text": [
      "O jogador <desconhecido> fez 0 gols no campenato\n"
     ]
    }
   ],
   "source": [
    "def ficha(jog='<desconhecido>', gol=0):\n",
    "    print(f'O jogador {jog} fez { gol} gols no campenato')\n",
    "n = str(input(' Nome do jogador: '))\n",
    "g = str(input('numero de gols: '))\n",
    "if g.isnumeric():\n",
    "    g = int(g)\n",
    "else:\n",
    "    g = 0\n",
    "if n.strip() == '':\n",
    "    ficha(gol=g)\n",
    "else:\n",
    "    ficha(n, g)\n"
   ]
  },
  {
   "cell_type": "markdown",
   "metadata": {},
   "source": [
    "# Desafio 104 \n",
    "Crie um programa que tenha a função leialnt() que vai funcionar  de forma semelhante  a função input () do pyton , so que fazendo  a validação  para aceitar apenas  um valor numerico .\n",
    "\n",
    "- Ex :  n= leiant('digite um n')"
   ]
  },
  {
   "cell_type": "code",
   "execution_count": 42,
   "metadata": {},
   "outputs": [
    {
     "name": "stdout",
     "output_type": "stream",
     "text": [
      "\u001b[0;31mERRO! Digite um numero interio valido .\u001b]m\n",
      "\u001b[0;31mERRO! Digite um numero interio valido .\u001b]m\n",
      " Vocw acabou de digitar o numero 5\n"
     ]
    }
   ],
   "source": [
    "def leiaint(msg):\n",
    "    ok = False\n",
    "    valor = 0\n",
    "    while True:\n",
    "        n = str(input(msg))\n",
    "        if n.isnumeric():\n",
    "            valor = int(n)\n",
    "            ok = True\n",
    "        else:\n",
    "            print('\\033[0;31mERRO! Digite um numero interio valido .\\033]m')\n",
    "        if ok:\n",
    "            break\n",
    "    return valor\n",
    "\n",
    "n = leiaint(' Digite um numero: ')\n",
    "print(f' Vocw acabou de digitar o numero {n}')"
   ]
  },
  {
   "cell_type": "markdown",
   "metadata": {},
   "source": [
    "# Desafio 105\n",
    "Faça um programa que  te tenha uma função  notas() q    ue pode receber varias notas  de alunos e vai retornar  um dicionario  com os seguintes  informações:\n",
    "- quantidade de notas \n",
    "- a maior nota\n",
    "- a menor nota \n",
    "- a media da turma \n",
    "- a situação opicional . \n",
    "Adicione tambem as docstrings da função "
   ]
  },
  {
   "cell_type": "code",
   "execution_count": 7,
   "metadata": {},
   "outputs": [
    {
     "name": "stdout",
     "output_type": "stream",
     "text": [
      "{'total': 3, 'maior': 8.5, 'menor': 2.5, 'media': 5.5, 'situação': 'Razoavel'}\n"
     ]
    }
   ],
   "source": [
    "def notas(*n, sit=False): # *n siginifica varias notas\n",
    "    r = dict()\n",
    "    r['total'] = len(n)\n",
    "    r['maior'] = max(n)\n",
    "    r['menor'] = min(n)\n",
    "    r['media'] = sum(n)/len(n)\n",
    "    if sit:\n",
    "        if r['media'] >= 7:\n",
    "            r['situação'] = 'boa'\n",
    "        elif r['media'] >= 5:\n",
    "            r['situação'] = 'Razoavel'\n",
    "        else:\n",
    "            r['situação'] = 'ruim'\n",
    "\n",
    "\n",
    "    return r\n",
    "\n",
    "resp = notas( 5.5, 2.5, 8.5, sit=True)\n",
    "print(resp)"
   ]
  },
  {
   "cell_type": "markdown",
   "metadata": {},
   "source": []
  },
  {
   "cell_type": "markdown",
   "metadata": {},
   "source": [
    "# Desafio 106\n",
    "Faça um mini sistema  que utiliza  o interactive help do pyton. O usuario  vai digitar  o comando  e o manual  vai aparecer . Quando o usuario  digitar  a palavra \"Fim , o programa  se encerrará .  obs: use cores "
   ]
  },
  {
   "cell_type": "code",
   "execution_count": 30,
   "metadata": {},
   "outputs": [
    {
     "name": "stdout",
     "output_type": "stream",
     "text": [
      "\u001b(0;30;41m~~~~~~~~~~~~~~~~~~~~~~~~~~~~\n",
      "   sistema de ajuda pyhelp\n",
      "~~~~~~~~~~~~~~~~~~~~~~~~~~~~\n",
      "\u001b(mHelp on built-in function print in module builtins:\n",
      "\n",
      "print(*args, sep=' ', end='\\n', file=None, flush=False)\n",
      "    Prints the values to a stream, or to sys.stdout by default.\n",
      "\n",
      "    sep\n",
      "      string inserted between values, default a space.\n",
      "    end\n",
      "      string appended after the last value, default a newline.\n",
      "    file\n",
      "      a file-like object (stream); defaults to the current sys.stdout.\n",
      "    flush\n",
      "      whether to forcibly flush the stream.\n",
      "\n",
      "\u001b(0;30;41m~~~~~~~~~~~~~~~~~~~~~~~~~~~~\n",
      "   sistema de ajuda pyhelp\n",
      "~~~~~~~~~~~~~~~~~~~~~~~~~~~~\n",
      "\u001b(m\u001b(0;30;41m~~~~~~~~~~~~~\n",
      "   ate logo\n",
      "~~~~~~~~~~~~~\n",
      "\u001b(m"
     ]
    }
   ],
   "source": [
    "c = ('\\033(m',\n",
    "     '\\033(0;30;41m',\n",
    "     '\\033[0;30;42m',\n",
    "     '\\033[0;30;43n',\n",
    "     '\\033[0;30;44n',\n",
    "     '\\033[0;30;45n',\n",
    "     '\\033[7;30n'\n",
    "     )\n",
    "\n",
    "def ajuda(com):\n",
    "    help(com)\n",
    "\n",
    "\n",
    "def titulo(msg, cor=0):\n",
    "    tam = len(msg) + 4\n",
    "    print(c[cor], end='')\n",
    "\n",
    "    print('~'* tam)\n",
    "    print(f'  {msg}')\n",
    "    print('~'* tam)\n",
    "    print(c[0], end='')\n",
    "\n",
    "comando = ''\n",
    "while True:\n",
    "    titulo(' sistema de ajuda pyhelp', 1 )\n",
    "    comando = str(input('Função ou biblioteca >'))\n",
    "    if comando.upper() == 'FIM':\n",
    "        break\n",
    "    else:\n",
    "        ajuda(comando)\n",
    "titulo(' ate logo', 1)"
   ]
  }
 ],
 "metadata": {
  "kernelspec": {
   "display_name": "Python 3",
   "language": "python",
   "name": "python3"
  },
  "language_info": {
   "codemirror_mode": {
    "name": "ipython",
    "version": 3
   },
   "file_extension": ".py",
   "mimetype": "text/x-python",
   "name": "python",
   "nbconvert_exporter": "python",
   "pygments_lexer": "ipython3",
   "version": "3.12.3"
  }
 },
 "nbformat": 4,
 "nbformat_minor": 2
}
