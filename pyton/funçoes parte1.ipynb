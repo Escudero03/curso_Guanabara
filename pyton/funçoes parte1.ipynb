{
 "cells": [
  {
   "cell_type": "markdown",
   "metadata": {},
   "source": [
    "# Funçoes Parte1 - aula 20\n",
    "\n",
    "definição (def) comando de rotina"
   ]
  },
  {
   "cell_type": "code",
   "execution_count": 3,
   "metadata": {},
   "outputs": [
    {
     "name": "stdout",
     "output_type": "stream",
     "text": [
      "-=-=-=-=-=-=-=-=-=-=-=-=-=-=-=\n",
      "       curso em video   \n",
      "-=-=-=-=-=-=-=-=-=-=-=-=-=-=-=\n",
      "       aprenda pyton   \n",
      "-=-=-=-=-=-=-=-=-=-=-=-=-=-=-=\n",
      "       jose escudero   \n"
     ]
    }
   ],
   "source": [
    "def lin():\n",
    "    print('-='*15)\n",
    "\n",
    "\n",
    "lin()\n",
    "print('       curso em video   ')\n",
    "lin()\n",
    "print('       aprenda pyton   ')\n",
    "lin()\n",
    "print('       jose escudero   ')"
   ]
  },
  {
   "cell_type": "code",
   "execution_count": 8,
   "metadata": {},
   "outputs": [
    {
     "name": "stdout",
     "output_type": "stream",
     "text": [
      "-=-=-=-=-=-=-=-=-=-=-=-=-=-=-=\n",
      "  curso em video  \n",
      "-=-=-=-=-=-=-=-=-=-=-=-=-=-=-=\n",
      "-=-=-=-=-=-=-=-=-=-=-=-=-=-=-=\n",
      " o comando titulo mostra a msg que eu colocar personalizada como eu quero\n",
      "-=-=-=-=-=-=-=-=-=-=-=-=-=-=-=\n"
     ]
    }
   ],
   "source": [
    "def titulo(txt):\n",
    "    print('-='*15)\n",
    "    print(txt)\n",
    "    print('-='*15)\n",
    "\n",
    "\n",
    "titulo('  curso em video  ')\n",
    "titulo(' o comando titulo mostra a msg que eu colocar personalizada como eu quero')"
   ]
  },
  {
   "cell_type": "code",
   "execution_count": 11,
   "metadata": {},
   "outputs": [
    {
     "name": "stdout",
     "output_type": "stream",
     "text": [
      "A = 4 e B = 5\n",
      "A soma A + B = 9\n",
      "-=-=-=-=-=-=-=-=-=-=-=-=-=-=-=\n",
      "A = 10 e B = 2\n",
      "A soma A + B = 12\n",
      "-=-=-=-=-=-=-=-=-=-=-=-=-=-=-=\n",
      "A = 5 e B = 7\n",
      "A soma A + B = 12\n",
      "-=-=-=-=-=-=-=-=-=-=-=-=-=-=-=\n"
     ]
    }
   ],
   "source": [
    "def soma(a, b):\n",
    "    print(f'A = {a} e B = {b}')\n",
    "    s = a+b\n",
    "    print(f'A soma A + B = {s}')\n",
    "    print('-='*15)\n",
    "\n",
    "soma(4, 5)\n",
    "soma(10, 2)\n",
    "soma(5, 7)\n"
   ]
  },
  {
   "cell_type": "markdown",
   "metadata": {},
   "source": [
    "# empacotador"
   ]
  },
  {
   "cell_type": "code",
   "execution_count": 33,
   "metadata": {},
   "outputs": [
    {
     "name": "stdout",
     "output_type": "stream",
     "text": [
      "(2, 1, 5)\n",
      "-=-=-=-=-=-=-=-=-=-=-=-=-=-=-=\n",
      "2  1  5  FIM\n",
      "-=-=-=-=-=-=-=-=-=-=-=-=-=-=-=\n",
      "Recebi  os valores (2, 1, 5) e sao ao todo 3 numeros\n",
      "-=-=-=-=-=-=-=-=-=-=-=-=-=-=-=\n"
     ]
    }
   ],
   "source": [
    "def contador(* num):\n",
    "    # primeiro exempol\n",
    "    print(num)\n",
    "    print('-='*15)\n",
    "    # segundo exemplo\n",
    "    for valor in num:\n",
    "        print(f'{valor} ', end=' ') \n",
    "    print('FIM')\n",
    "    print('-='*15)\n",
    "      # terceiro exemplo \n",
    "    tam = len(num)\n",
    "    print(f'Recebi  os valores {num} e sao ao todo {tam} numeros')\n",
    "    print('-='*15)\n",
    "    \n",
    "\n",
    "contador(2, 1, 5)\n"
   ]
  },
  {
   "cell_type": "markdown",
   "metadata": {},
   "source": [
    "# listas "
   ]
  },
  {
   "cell_type": "code",
   "execution_count": 35,
   "metadata": {},
   "outputs": [
    {
     "name": "stdout",
     "output_type": "stream",
     "text": [
      "[2, 4, 6, 8, 10]\n"
     ]
    }
   ],
   "source": [
    "def dobra(lst):\n",
    "    pos = 0\n",
    "    while pos < len(lst):\n",
    "        lst[pos] *= 2\n",
    "        pos += 1\n",
    "\n",
    "valores = [1, 2, 3, 4, 5]\n",
    "dobra(valores)\n",
    "print(valores)"
   ]
  },
  {
   "cell_type": "markdown",
   "metadata": {},
   "source": [
    "# desafio 96 - ## aula 20 \n",
    "faça um program que tenha uma função  chamada area (), que receba as dimensoes  de um terreno retangular( largurqa e cumprimento) e mostre aares do terreno"
   ]
  },
  {
   "cell_type": "code",
   "execution_count": 2,
   "metadata": {},
   "outputs": [
    {
     "name": "stdout",
     "output_type": "stream",
     "text": [
      " Controle de terreno \n",
      "--------------------\n",
      "A area de um terreno 5.0 x 4.0 è de 20.0m2 \n"
     ]
    }
   ],
   "source": [
    "def area(larg, comp):\n",
    "    a= larg * comp\n",
    "    print(f'A area de um terreno {larg} x {comp} è de {a}m2 ')\n",
    "\n",
    "print(' Controle de terreno ')\n",
    "print('-' *20)\n",
    "l = float(input(' Largura (m):'))\n",
    "c = float(input(' Comprimento (m): '))\n",
    "area(l, c)"
   ]
  },
  {
   "cell_type": "markdown",
   "metadata": {},
   "source": [
    "# Desafio 97\n",
    "Faça um programa que  tenha a funçao chamada escreva(),  que receba um rtexto qualquer como parametros  e mostre uma msg com tamanho adaptavel .\n",
    "- Ex :\n",
    "- Escreva ('ola, Mundo!)\n",
    "\n"
   ]
  },
  {
   "cell_type": "code",
   "execution_count": 3,
   "metadata": {},
   "outputs": [
    {
     "name": "stdout",
     "output_type": "stream",
     "text": [
      "~~~~~~~~~~~~~~~~~~\n",
      "  jose Escudero\n",
      "~~~~~~~~~~~~~~~~~~\n",
      "~~~~~~~~~~~~~~~~~~~~~~~~~~~~~~~\n",
      "  Prendendo Pyton no Youtube\n",
      "~~~~~~~~~~~~~~~~~~~~~~~~~~~~~~~\n",
      "~~~~~~~~~\n",
      " força\n",
      "~~~~~~~~~\n"
     ]
    }
   ],
   "source": [
    "def escreva(msg):\n",
    "    tam = len(msg) + 4\n",
    "    print('~' * tam)\n",
    "    print(f' {msg}')\n",
    "    print('~' * tam )\n",
    "\n",
    "escreva(' jose Escudero')\n",
    "escreva(' Prendendo Pyton no Youtube')\n",
    "escreva('força')"
   ]
  },
  {
   "cell_type": "markdown",
   "metadata": {},
   "source": [
    "# Desafio 98 \n",
    "Faça um programa que tenha  uma funçaõ chamada contador(), que receba tres parametros : inicio, fim e passo e realiza a contagem.\n",
    "\n",
    "Seu programa tem que realizar  tres contagens atraves da função criada :\n",
    "\n",
    "- a) de 1 ate 10, de 1 em 1 \n",
    "- b) de 10 ate 0 , de 2 em 2 \n",
    "- c) uma contagem  personalizada "
   ]
  },
  {
   "cell_type": "code",
   "execution_count": 34,
   "metadata": {},
   "outputs": [
    {
     "name": "stdout",
     "output_type": "stream",
     "text": [
      "~~~~~~~~~~~~~~~~~~~~\n",
      "contagem de 10 ate 0 de 2 \n",
      " 10   8   6   4   2   0  Fim\n",
      "~~~~~~~~~~~~~~~~~~~~\n",
      "contagem de 0 ate 100 de 10 \n",
      "0  10  20  30  40  50  60  70  80  90  100  fim  \n",
      "=-=-=-=-=-=-=-=-=-=-=-=-=-=-=-\n",
      " Agora e sua vez de personalizar  a contagem! \n",
      "~~~~~~~~~~~~~~~~~~~~\n",
      "contagem de 10 ate -10 de 5 \n",
      " 10   5   0   -5   -10  Fim\n"
     ]
    }
   ],
   "source": [
    "from time import sleep\n",
    "def contador(i, f, p):\n",
    "    if p< 0:\n",
    "        p += -1\n",
    "    if p == 0:\n",
    "        p = 1 \n",
    "    print('~'*20)\n",
    "    print(f'contagem de {i} ate {f} de {p} ')\n",
    "    sleep(2.5)\n",
    "\n",
    "    \n",
    "    if i < f:\n",
    "        cont = i\n",
    "        while cont <= f:\n",
    "            print(f'{cont}', end= '  ')\n",
    "            sleep(0.5)\n",
    "            cont += p\n",
    "        print ('fim', end='  ')\n",
    "    else:\n",
    "        cont = i\n",
    "        while cont >= f:\n",
    "            print(f' {cont}', end='  ')\n",
    "            sleep(0.5)\n",
    "            cont -= p\n",
    "        print('Fim')\n",
    "\n",
    "\n",
    "contador(10, 0, 2)\n",
    "contador(0, 100, 10)\n",
    "print('')\n",
    "print('=-'*15)\n",
    "print(' Agora e sua vez de personalizar  a contagem! ')\n",
    "ini = int(input('Inicio: '))\n",
    "fim = int(input('Fim:    '))\n",
    "pas = int(input('Passo:  '))\n",
    "contador(ini, fim, pas)"
   ]
  },
  {
   "cell_type": "markdown",
   "metadata": {},
   "source": [
    "# Desafio 99\n",
    "Faça um programa que tenha uma função chamada  maior(), que receba varios parametros com valores inteiros.\n",
    "\n",
    "seu programa tem que analisar todos os valores  e dizer qual deles  é o maior.\n"
   ]
  },
  {
   "cell_type": "code",
   "execution_count": 37,
   "metadata": {},
   "outputs": [
    {
     "name": "stdout",
     "output_type": "stream",
     "text": [
      "\n",
      "analisando os valores passados...\n",
      "2 8 9 8 1 Foram informados 5 valores ao todo\n",
      "O maior valor informado  foi 9\n",
      "\n",
      "analisando os valores passados...\n",
      "4 8 9 Foram informados 3 valores ao todo\n",
      "O maior valor informado  foi 9\n",
      "\n",
      "analisando os valores passados...\n",
      "9 7 2 0 Foram informados 4 valores ao todo\n",
      "O maior valor informado  foi 9\n",
      "\n",
      "analisando os valores passados...\n",
      "5 Foram informados 1 valores ao todo\n",
      "O maior valor informado  foi 5\n",
      "\n",
      "analisando os valores passados...\n",
      "0 Foram informados 1 valores ao todo\n",
      "O maior valor informado  foi 0\n"
     ]
    }
   ],
   "source": [
    "def maior(*num):\n",
    "    cont = maior = 0\n",
    "    print('\\nanalisando os valores passados...')\n",
    "    for valor in num:\n",
    "        print(f'{valor}', end=' ')\n",
    "        if  cont == 0:\n",
    "            maior = valor\n",
    "        else:\n",
    "            if valor > maior:\n",
    "                maior = valor\n",
    "        cont += 1\n",
    "    print(f'Foram informados {cont} valores ao todo')\n",
    "    print(f'O maior valor informado  foi {maior}')\n",
    "\n",
    "maior(2, 8, 9, 8, 1)\n",
    "maior(4, 8, 9, )\n",
    "maior(9, 7, 2, 0)\n",
    "maior(5)\n",
    "maior(0)\n",
    "\n"
   ]
  },
  {
   "cell_type": "markdown",
   "metadata": {},
   "source": [
    "# Desafio 100\n",
    "Faça um programa quee tenha uma lista cahamda numeros e duas funçoes  chamadas sorteios () esoma par(). A primeira função vai sortear  5 numeros e vai colocalos  dentro da lista  e a segunda função vai  mostrar a soma  entre todos os valores  pares sorteados pela função anterior. "
   ]
  },
  {
   "cell_type": "code",
   "execution_count": 74,
   "metadata": {},
   "outputs": [
    {
     "name": "stdout",
     "output_type": "stream",
     "text": [
      "Sorteando cinco valores da lista: 65517 pronto:\n",
      " somando os valores Pares de [6, 5, 5, 1, 7], temos 6 \n"
     ]
    }
   ],
   "source": [
    "from random import randint\n",
    "\n",
    "def sorteia(lista):\n",
    "    print('Sorteando cinco valores da lista: ', end='')\n",
    "    for cont in range(0, 5):\n",
    "       n = randint(1, 10)\n",
    "       lista.append(n)\n",
    "       print(f'{n}', end='')\n",
    "    print(' pronto:')\n",
    "\n",
    "def somapar(lista):\n",
    "    soma = 0\n",
    "    for valor in lista:\n",
    "        if valor % 2 == 0:\n",
    "            soma += valor\n",
    "    print(f' somando os valores Pares de {lista}, temos {soma} ') \n",
    "numero = list()\n",
    "sorteia(numero)\n",
    "somapar(numero)\n"
   ]
  }
 ],
 "metadata": {
  "kernelspec": {
   "display_name": "Python 3",
   "language": "python",
   "name": "python3"
  },
  "language_info": {
   "codemirror_mode": {
    "name": "ipython",
    "version": 3
   },
   "file_extension": ".py",
   "mimetype": "text/x-python",
   "name": "python",
   "nbconvert_exporter": "python",
   "pygments_lexer": "ipython3",
   "version": "3.12.3"
  }
 },
 "nbformat": 4,
 "nbformat_minor": 2
}
