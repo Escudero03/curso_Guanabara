{
 "cells": [
  {
   "cell_type": "markdown",
   "metadata": {},
   "source": [
    "# Aula 14 \n",
    "laço WHILE NOT -    ENQUANTO NAO "
   ]
  },
  {
   "cell_type": "code",
   "execution_count": 10,
   "metadata": {},
   "outputs": [
    {
     "name": "stdout",
     "output_type": "stream",
     "text": [
      "1, 2, 3, 4, 5, 6, 7, 8, 9, fim\n"
     ]
    }
   ],
   "source": [
    "c = 1\n",
    "while c < 10:\n",
    "    print(c, end =', ')\n",
    "    c = c + 1 \n",
    "print ('fim')\n"
   ]
  },
  {
   "cell_type": "code",
   "execution_count": 12,
   "metadata": {},
   "outputs": [
    {
     "name": "stdout",
     "output_type": "stream",
     "text": [
      "2,5,6,7,0, vc digitou 2 numeros pares e 0 numeros impares ! \n"
     ]
    }
   ],
   "source": [
    "n = 1 \n",
    "par = impar = 0\n",
    "while n != 0:\n",
    "    n = int(input('digite um valor: '))\n",
    "    print (n, end =',')\n",
    "    if n != 0:\n",
    "        if n % 2 == 0:\n",
    "            par = par + 1 \n",
    "\n",
    "print(' vc digitou {} numeros pares e {} numeros impares ! '.format(par, impar))"
   ]
  },
  {
   "cell_type": "markdown",
   "metadata": {},
   "source": [
    "# Desafio 57\n",
    "Faça um programa que leia o sexo de uma pessoa mas só aceite F ou M . caso esteja errado peça a digitação novamentente ate ter um valor correto."
   ]
  },
  {
   "cell_type": "code",
   "execution_count": 17,
   "metadata": {},
   "outputs": [
    {
     "name": "stdout",
     "output_type": "stream",
     "text": [
      "M\n",
      "sexo M registrado com sucesso\n"
     ]
    }
   ],
   "source": [
    "sexo = str(input('informe seu sexo : (m/f) ')).strip().upper()[0]\n",
    "print(sexo)\n",
    "while sexo not in 'MmFf':\n",
    "    sexo = str(input('Dados invalidos . Por favort informe seu sexo :')).strip().upper()[0]\n",
    "print('sexo {} registrado com sucesso'.format(sexo))"
   ]
  },
  {
   "cell_type": "markdown",
   "metadata": {},
   "source": [
    "# Desafio 58 \n",
    "melhore o jogo do desafio 28  onde o computador vai pensar um numero  entre 0 e 10 . so que agora o jogador  vai tentar adivinhar ate acertar , mostrando no final quantos palpites foram necessarios para vencer \n"
   ]
  },
  {
   "cell_type": "code",
   "execution_count": 25,
   "metadata": {},
   "outputs": [
    {
     "name": "stdout",
     "output_type": "stream",
     "text": [
      "Sou seu computador .... acabei de pensar em um numero de 0 a 10. \n",
      " Sera que vcconsegue adivinhar qual foi? \n",
      "qual e o seu palpite: 1\n",
      "Mais....tente mais uma vez\n",
      "qual e o seu palpite: 9\n",
      "menos.... tente mais uma vez\n",
      "qual e o seu palpite: 2\n",
      "Mais....tente mais uma vez\n",
      "qual e o seu palpite: 8\n",
      "acertou com 4 tentatrivas de palpites\n"
     ]
    }
   ],
   "source": [
    "from random import randint\n",
    "computador = randint(0, 10)\n",
    "print ('Sou seu computador .... acabei de pensar em um numero de 0 a 10. ')\n",
    "print( ' Sera que vcconsegue adivinhar qual foi? ')\n",
    "acertou = False\n",
    "palpites = 0\n",
    "while not acertou:\n",
    "    jogador = int(input('Qual é o seu palpite? '))\n",
    "    palpites = palpites + 1 \n",
    "    print('qual e o seu palpite: {}' .format(jogador))\n",
    "    if jogador == computador:\n",
    "        acertou = True\n",
    "    else:\n",
    "        if jogador < computador:\n",
    "            print('Mais....tente mais uma vez')\n",
    "        elif jogador > computador:\n",
    "            print('menos.... tente mais uma vez')\n",
    "print('acertou com {} tentativas de palpites'.format(palpites))\n",
    "\n",
    "\n"
   ]
  },
  {
   "cell_type": "markdown",
   "metadata": {},
   "source": [
    "# Desafio 59\n",
    "Crie um programa que mostre dois valores e mostre o menu na tela :\n",
    "- [1] somar\n",
    "- [2] multipolicar\n",
    "- [3] maior\n",
    "- [4] novos numeros\n",
    "- [5] sair do programa.  \n",
    " Seu programa devera ralizar a operação em cada caso.\n"
   ]
  },
  {
   "cell_type": "code",
   "execution_count": null,
   "metadata": {},
   "outputs": [],
   "source": [
    "n1 = int(input('primeiro valor:'))\n",
    "n2 = int(input('segundo valor: '))\n",
    "opção = 0 \n",
    "while opção != 5:\n",
    "    print(''' \n",
    "    [1] somar\n",
    "    [2] multipolicar\n",
    "    [3] maior\n",
    "    [4] novos numeros\n",
    "    [5] sair do programa.   ''')\n",
    "    opção = int(input('qual e a sua opção ? '))\n",
    "    if opção == 1:\n",
    "        produto = n1 * n2 \n",
    "        print(' a soma entre{} + {}  é {}'.format(n1, n2, soma))\n",
    "    elif opção ==2:\n",
    "        produto = n1 * n2\n",
    "        print(' o resultado  de {} x {} é {}'. format(n1, n2, produto))\n",
    "    elif opção ==3:\n",
    "        if n1 > n2:\n",
    "            maior = n1\n",
    "        else:\n",
    "            maior = n2\n",
    "            print('entre {} e {} o maior valoe é {}'.format (n1, n2, maior))\n",
    "    elif opção ==4:\n",
    "        print (' informe o numero novamente :')\n",
    "        n1 = int(input('primeiro valor:'))\n",
    "        n2 = int(input('segundo valor: '))\n",
    "    elif opção ==5:\n",
    "        print(' finalizando.....')\n",
    "\n",
    "    else:\n",
    "        print('opção invalida . Tente novamente')\n",
    "    print('=-=' *10)\n",
    "print('fim do programa! volte sempre!')\n"
   ]
  },
  {
   "cell_type": "markdown",
   "metadata": {},
   "source": [
    "# Desafio 60 \n",
    "Faça um programa que leia umç numero qualquer e mostre seu fatorial.\n",
    "- ex:\n",
    "- 5! = 5x4x3x2x1 = 120\n"
   ]
  },
  {
   "cell_type": "code",
   "execution_count": null,
   "metadata": {},
   "outputs": [],
   "source": [
    "n1 = int(input('primeiro valor: '))\n",
    "n2 = int(input('Segundo valor : '))\n",
    "opção = 0\n",
    "while opção != 5:\n",
    "    print('''\n",
    "    [1] somar\n",
    "    [2] multiplicar\n",
    "    [3] maior\n",
    "    [4] novos numeros\n",
    "    [5] sair do programa ''')\n",
    "    opção = int(input('>>>>> Qual é a sua opção?'))\n",
    "    if opção == 1:\n",
    "        soma = n1 + n2\n",
    "        print(' a soma entre {} + {} é {}'. format(n1, n2, soma))\n",
    "    elif opção == 2:\n",
    "        produto = n1 * n2\n",
    "        print(' o resultado de {} x {} é  {}' .format(n1, n2, produto))    \n",
    "    elif opção == 3:\n",
    "        if n1 > n2:\n",
    "            maior = n1\n",
    "        else:\n",
    "            maior = n2\n",
    "        print('entre {} e {} o maior valor é {}'.format(n1, n2, maior))\n",
    "    elif opção == 4:\n",
    "        print(' informe o numero novamente :')\n",
    "        n1 = int(input('primeiro valor: '))\n",
    "        n2 = int(input('segundo valor:'))\n",
    "    elif opção == 5:\n",
    "        print('finalizando....')\n",
    "    else:\n",
    "        print('opção invalida . Tente novamente')\n",
    "    print('=-=' * 10)\n",
    "print(' fim do programa volte sempre !!!')\n"
   ]
  },
  {
   "cell_type": "markdown",
   "metadata": {},
   "source": [
    "# Desafio 61\n",
    "refaça o desafio 51 lendo o primeiro termo e a razao de uma pa. mosateando os 10 primeiros termos de uma progressao usando a estruturua while"
   ]
  },
  {
   "cell_type": "code",
   "execution_count": 5,
   "metadata": {},
   "outputs": [
    {
     "name": "stdout",
     "output_type": "stream",
     "text": [
      " o fatorial de5 é 120.\n",
      " calculando 5! 5 x 4 x 3 x 2 x 1 = 120\n"
     ]
    }
   ],
   "source": [
    "from math import factorial\n",
    "n = int(input('digite um numero para calcularseu fatoria: '))\n",
    "f = factorial(n)\n",
    "print(' o fatorial de{} é {}.'.format(n, f))\n",
    "\n",
    "#modo tradicional \n",
    "n = int(input('digite um numero para calcular seu fatoria: '))\n",
    "c = n\n",
    "f = 1\n",
    "print(' calculando {}! '.format(n), end='')\n",
    "while c > 0:\n",
    "    print('{}'.format(c), end='')\n",
    "    print(' x ' if c > 1 else ' = ', end='')\n",
    "    f = f * c\n",
    "    c = c - 1\n",
    "print('{}'.format(f))\n"
   ]
  },
  {
   "cell_type": "markdown",
   "metadata": {},
   "source": [
    "# Desafio 62\n",
    "melhore o desafio 51 . Perguntando para o usuario se ele quer mostrar mais alguns termos. o programa encerra quando ele disseeer que quer mostar os termos \n"
   ]
  },
  {
   "cell_type": "code",
   "execution_count": 11,
   "metadata": {},
   "outputs": [
    {
     "name": "stdout",
     "output_type": "stream",
     "text": [
      " gerador de PA\n",
      "-=--=--=--=--=--=--=--=--=--=-\n",
      "0 →5 →10 →15 →20 →25 →30 →35 →40 →45 →FIM\n"
     ]
    }
   ],
   "source": [
    "print(' gerador de PA')\n",
    "print('-=-' *10)\n",
    "primeiro = int(input('primeiro termo:'))\n",
    "razao = int(input('razao do pa: '))\n",
    "termo = primeiro\n",
    "cont = 1 \n",
    "while cont <= 10:\n",
    "    print('{} →'.format(termo), end='')\n",
    "    termo = termo +  razao \n",
    "    cont = cont + 1\n",
    "print('FIM')\n"
   ]
  },
  {
   "cell_type": "markdown",
   "metadata": {},
   "source": [
    "# Desafio 63\n",
    "escreva um programa que leia um n inteiro  qualquer e mostre na tela os n primeiros elementos  de uma sequencia de fibonati.\n",
    "- ex :\n",
    "- 0  →1 →1 →2 →3 →5 →8"
   ]
  },
  {
   "cell_type": "code",
   "execution_count": 2,
   "metadata": {},
   "outputs": [
    {
     "name": "stdout",
     "output_type": "stream",
     "text": [
      "------------------------------\n",
      "sequencia de fibonacci\n",
      "------------------------------\n",
      "~~~~~~~~~~~~~~~~~~~~~~~~~~~~~~~~~~~~~~~~~~~~~~~~~~~~~~~~~~~~\n",
      "0 → 1→ 1 → 2 → 3 → 5 → 8 → 13 → 21 → 34 → fim\n"
     ]
    }
   ],
   "source": [
    "print('-'*30)\n",
    "print('sequencia de fibonacci')\n",
    "print( '-'*30)\n",
    "n = int(input( 'quantos termos vc quer mostrar'))\n",
    "t1 = 0\n",
    "t2 = 1 \n",
    "print('~~'*30)\n",
    "print('{} → {}'.format(t1, t2), end='')\n",
    "cont = 3 \n",
    "while cont <= n:\n",
    "    t3 = t1 + t2 \n",
    "    print('→ {} '.format(t3), end='')\n",
    "    t1 = t2\n",
    "    t2 = t3\n",
    "    cont = cont + 1 \n",
    "print('→ fim')\n"
   ]
  },
  {
   "cell_type": "markdown",
   "metadata": {},
   "source": [
    "# Desafio 64\n",
    "Crie um progrtama que leia varios numeros inteiros pelo teclado. o programa so vai parar quando o usuario digitar o valor 999, que é a condição de parada . no final mostre quantos numeros foram dsigitado e qual foi asoma entre eles ( desconsiderando o flag)"
   ]
  },
  {
   "cell_type": "code",
   "execution_count": 4,
   "metadata": {},
   "outputs": [
    {
     "name": "stdout",
     "output_type": "stream",
     "text": [
      "vc digitou 3 numeros e a soma entre eles foi 6\n"
     ]
    }
   ],
   "source": [
    "num = cont = soma = 0\n",
    "num = int(input('digite um numero [999 para parar]: '))\n",
    "while num != 999:\n",
    "    soma += num\n",
    "    cont += 1\n",
    "    num = int(input('digite um numero [999 para parar]:'))\n",
    "print('vc digitou {} numeros e a soma entre eles foi {}'.format(cont, soma))"
   ]
  },
  {
   "cell_type": "markdown",
   "metadata": {},
   "source": [
    "# Desafio 65 \n",
    "Crie um programa que leia varios numeros inteiros pelo teclado. no final da execução mostre a media entre todos osa valores e qual foi o maior e o menor valor lido. O progrma deve perguntar ao usuario se le quer ou nao continuar a digitar valores.  "
   ]
  },
  {
   "cell_type": "code",
   "execution_count": 10,
   "metadata": {},
   "outputs": [
    {
     "name": "stdout",
     "output_type": "stream",
     "text": [
      "voce digitou 2 numeros e a media foi 2.5\n",
      "o maior valor foi 3 e o menor foi 2\n"
     ]
    }
   ],
   "source": [
    "resp = 'S'\n",
    "soma = quant = media = 0 \n",
    "while resp in 'Ss':\n",
    "    num = int(input('digite um numero: '))\n",
    "    soma += num\n",
    "    quant += 1\n",
    "    if quant == 1:\n",
    "        maior = menor = num \n",
    "    else:\n",
    "        if num > maior:\n",
    "            maior = num\n",
    "        if num < menor:\n",
    "            menor = num\n",
    "    resp = str(input('quer continuar [s/n] ')).upper().strip()[0]\n",
    "media = soma / quant\n",
    "print('voce digitou {} numeros e a media foi {}'.format(quant, media))\n",
    "print('o maior valor foi {} e o menor foi {}'.format(maior, menor))"
   ]
  }
 ],
 "metadata": {
  "kernelspec": {
   "display_name": "Python 3",
   "language": "python",
   "name": "python3"
  },
  "language_info": {
   "codemirror_mode": {
    "name": "ipython",
    "version": 3
   },
   "file_extension": ".py",
   "mimetype": "text/x-python",
   "name": "python",
   "nbconvert_exporter": "python",
   "pygments_lexer": "ipython3",
   "version": "3.12.3"
  }
 },
 "nbformat": 4,
 "nbformat_minor": 2
}
