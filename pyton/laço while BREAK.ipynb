{
 "cells": [
  {
   "cell_type": "markdown",
   "metadata": {},
   "source": [
    "# Aula 15  - Desafio 66 \n",
    "While True\n",
    "\n",
    "\n",
    "crie um programa que leia varios numeros inteiros pelo teclado , o programa so vai parar quando o usuario  digitaro valo 999 , que é acondição de parada . No final mostre quantos numeros  foram digitados  e qual foi a soma entre eles. "
   ]
  },
  {
   "cell_type": "code",
   "execution_count": 2,
   "metadata": {},
   "outputs": [
    {
     "name": "stdout",
     "output_type": "stream",
     "text": [
      "A soma dos 3 valores foi 6!\n"
     ]
    }
   ],
   "source": [
    "soma = cont = 0 \n",
    "while True:\n",
    "    num = int(input('Digite um valor ( 999 para parar ): '))\n",
    "    if num == 999:\n",
    "        break\n",
    "    cont += 1\n",
    "    soma += num\n",
    "print (f'A soma dos {cont} valores foi {soma}!')\n"
   ]
  },
  {
   "cell_type": "markdown",
   "metadata": {},
   "source": [
    "# Desafio 67\n",
    "Faça um programa que mostre  a tabuada  de varios numeros  um de casa vez  para cada valor digitado  pelo usuario . o programa sera  interrompido  quando o numero solicitado  for negativo \n"
   ]
  },
  {
   "cell_type": "code",
   "execution_count": null,
   "metadata": {},
   "outputs": [],
   "source": [
    "while True:\n",
    "    n = int(input('Quer vewr a tabuada dequal valor ? '))\n",
    "    if n < 0:\n",
    "        break\n",
    "    print('=' * 15)\n",
    "    for c in range(1, 11):\n",
    "        print(' {} x {} = {}' .format(n, c, n*c))\n",
    "    print('→=→' * 30)\n",
    "print('acabou volte sempre')"
   ]
  },
  {
   "cell_type": "markdown",
   "metadata": {},
   "source": [
    "# Desafio 68 \n",
    "Faça um programa que jogue par ou impar  com o computador . O jogo so sera nterrompido  quando o jogador PERDER. mostrando o total  de vitorias  consecutivas  que ele conquistou  no final do jogo"
   ]
  },
  {
   "cell_type": "code",
   "execution_count": 9,
   "metadata": {},
   "outputs": [
    {
     "name": "stdout",
     "output_type": "stream",
     "text": [
      " voce jogou 2 e o computador jogou 6 total de 8 deu par \n",
      " Vcvenceu \n",
      " vamos jogar novamente \n",
      " voce jogou 5 e o computador jogou 0 total de 5 deu impar \n",
      " Vc perdeu \n",
      "game over !! vc venceu 1 vezes \n"
     ]
    }
   ],
   "source": [
    "from random import randint\n",
    "v = 0 \n",
    "while True:\n",
    "    jogador = int(input('digite um valor: '))\n",
    "    computador = randint(0, 10)\n",
    "    total = jogador + computador\n",
    "    tipo = ' '\n",
    "    while tipo not in 'PpIi':\n",
    "        tipo = str(input('par ou impar[P ou I] ')). strip().upper()[0]\n",
    "    print( f' voce jogou {jogador} e o computador jogou {computador} total de {total}', end='')\n",
    "    print(' deu par ' if total % 2 ==0  else \" deu impar \")\n",
    "    if tipo == 'P':\n",
    "        if  total % 2 == 0:\n",
    "            print ( ' Vcvenceu ')\n",
    "            v += 1\n",
    "        else:\n",
    "            print(' Vc perdeu ')\n",
    "            break\n",
    "    elif tipo == 'I':\n",
    "            if total % 2 == 1 :\n",
    "                print (' vc Venceu')\n",
    "                v += 1\n",
    "            else:\n",
    "                 print ('vc perdeu ')\n",
    "                 break\n",
    "    print(' vamos jogar novamente ')\n",
    "print(f'game over !! vc venceu {v} vezes ' )"
   ]
  },
  {
   "cell_type": "code",
   "execution_count": null,
   "metadata": {},
   "outputs": [],
   "source": [
    "g"
   ]
  },
  {
   "cell_type": "markdown",
   "metadata": {},
   "source": [
    "# Desafio 69\n",
    "\n",
    "crie um programa que leia a idade e o sexo devarias pessoas . a cada pessoa cadastrada , o programadevera perguntar  se o usuario  quer ou nao continuar . no final mostre:\n",
    "- A ) quantas pessoas  tem mais de 18 anos.\n",
    "- B) quantos homens foram cadastrados \n",
    "- C ) quantas mulheres  tem menos de 20 anos  "
   ]
  },
  {
   "cell_type": "code",
   "execution_count": 6,
   "metadata": {},
   "outputs": [
    {
     "name": "stdout",
     "output_type": "stream",
     "text": [
      "total de pessoas com mais de 18 anos: 1\n",
      "ao todo temos 1 homens cadstrados\n",
      "e temos1mulheres com menos de 20 anos \n"
     ]
    }
   ],
   "source": [
    "tot18 = totH = totM20 = 0\n",
    "while True:\n",
    "    idade = int(input('idade: '))\n",
    "    sexo = ' '\n",
    "    while sexo not in 'MF':\n",
    "        sexo = str(input('sexo: [m/f]')).strip().upper()[0]\n",
    "    if idade >=18:\n",
    "         tot18 += 1 \n",
    "    if sexo == 'M':\n",
    "         totH += 1\n",
    "    if sexo =='F' and idade < 20:\n",
    "              totM20 += 1          \n",
    "    resp = ' '\n",
    "    while resp not in 'SN':\n",
    "        resp = str(input('quer continuar?  [S/N]')).strip().upper()[0]\n",
    "    if resp == 'N':\n",
    "            break\n",
    "print(f'total de pessoas com mais de 18 anos: {tot18}')\n",
    "print(f'ao todo temos {totH} homens cadastrados')\n",
    "print(f'e temos{totM20} mulheres com menos de 20 anos ')\n",
    "\n"
   ]
  },
  {
   "cell_type": "markdown",
   "metadata": {},
   "source": [
    "# Desafio 70 \n",
    "Crie um programa  que leia o nome  e o preço  de varios produtos . o programa devera perguntar  se o usuario vai continuar. No final mostre : \n",
    "- A ) Qual é o total gasto na compra.\n",
    "- B ) quantos produtos custam  mais de R$ 1000\n",
    "- C ) Qual e o nome do produto mais barato.\n",
    "  "
   ]
  },
  {
   "cell_type": "code",
   "execution_count": 6,
   "metadata": {},
   "outputs": [
    {
     "name": "stdout",
     "output_type": "stream",
     "text": [
      "borracha\n",
      "1.0\n",
      "caneta\n",
      "2.0\n",
      "cel\n",
      "1500.0\n",
      "------------fim do programa-------------\n",
      " o total dacompra foi    1503.00\n",
      "temos1 produtos custando mais de R$ 1000.00\n",
      "o produto mais barato borracha que  custa R$1.00\n",
      "------------fim do programa-------------\n"
     ]
    }
   ],
   "source": [
    "total = totmil = menor = cont = 0\n",
    "barato = ' '\n",
    "while True:\n",
    "    produto = str(input('Nome do produto: '))\n",
    "    print(produto)\n",
    "    preço = float(input('preço: R$'))\n",
    "    print(preço)\n",
    "    cont += 1\n",
    "    total += preço\n",
    "    if preço > 1000:\n",
    "         totmil += 1\n",
    "    if cont == 1:\n",
    "         menor = preço\n",
    "         barato = produto\n",
    "    else:\n",
    "         if preço < menor:\n",
    "              menor = preço  \n",
    "              barato = produto            \n",
    "    resp = ' '\n",
    "    while resp not in 'SN':\n",
    "        resp = str(input('quer continuar?')).strip().upper()[0]\n",
    "    if resp == 'N':\n",
    "            break\n",
    "print('{:-^40}'.format('fim do programa'))\n",
    "print(f' o total dacompra foi {total:10.2f}')\n",
    "print(f'temos{totmil} produtos custando mais de R$ 1000.00')\n",
    "print(f'o produto mais barato {barato} que  custa R${menor:.2f}')\n",
    "print('{:-^40}'.format('fim do programa'))"
   ]
  },
  {
   "cell_type": "markdown",
   "metadata": {},
   "source": [
    "# Desafio 71 \n",
    "Criu um programa  que simnule o funcionamento  de um caixa eletronico. no inicio , pergunte ao usuario  qual sera o valor a ser sacado e o programa vai informar  quantascedulas  de cada valor  serao entregue. \n",
    "OBs : considere que o caixa possui deulas de R$ 50.00 , R$ 20.00, R$10.00, R$ 1.00"
   ]
  },
  {
   "cell_type": "code",
   "execution_count": 11,
   "metadata": {},
   "outputs": [
    {
     "name": "stdout",
     "output_type": "stream",
     "text": [
      "==============================\n",
      "        ESCUDERIA FORT        \n",
      "$$$$$$$$$$$$$$$$$$$$$$$$$$$$$$\n",
      "totalde 23 cedulas de 50\n",
      "==============================\n",
      "volte sempre a ESCUDERIA FORT $$\n"
     ]
    }
   ],
   "source": [
    "print('='*30)\n",
    "print('{:^30}'.format('ESCUDERIA FORT'))\n",
    "print('$'*30)\n",
    "valor = int(input('que valor vc quer sacar? R$'))\n",
    "total = valor\n",
    "ced = 50 \n",
    "totalced = 0\n",
    "while True:\n",
    "    if total >= ced:\n",
    "        total -= ced\n",
    "        totalced += 1\n",
    "    else:\n",
    "        if totalced > 0:\n",
    "            print(f'totalde {totalced} cedulas de {ced}')\n",
    "        if ced == 50:\n",
    "            ced = 20\n",
    "        elif ced == 20:\n",
    "            ced = 10 \n",
    "        elif ced ==10:\n",
    "            ced = 1\n",
    "        totalced = 0 \n",
    "        if total == 0:\n",
    "            break\n",
    "print('='*30)\n",
    "print('volte sempre a ESCUDERIA FORT $$')"
   ]
  }
 ],
 "metadata": {
  "kernelspec": {
   "display_name": "Python 3",
   "language": "python",
   "name": "python3"
  },
  "language_info": {
   "codemirror_mode": {
    "name": "ipython",
    "version": 3
   },
   "file_extension": ".py",
   "mimetype": "text/x-python",
   "name": "python",
   "nbconvert_exporter": "python",
   "pygments_lexer": "ipython3",
   "version": "3.12.3"
  }
 },
 "nbformat": 4,
 "nbformat_minor": 2
}
