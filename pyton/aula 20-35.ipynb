{
 "cells": [
  {
   "cell_type": "markdown",
   "metadata": {},
   "source": [
    "## aula 08  exercicio 21 \n",
    "### abra e reproduza uma musica mp3"
   ]
  },
  {
   "cell_type": "code",
   "execution_count": 20,
   "metadata": {},
   "outputs": [
    {
     "name": "stdout",
     "output_type": "stream",
     "text": [
      "Requirement already satisfied: pygame in c:\\users\\mi\\appdata\\local\\programs\\python\\python312\\lib\\site-packages (2.6.0)\n"
     ]
    },
    {
     "name": "stderr",
     "output_type": "stream",
     "text": [
      "\n",
      "[notice] A new release of pip is available: 24.0 -> 24.1.1\n",
      "[notice] To update, run: python.exe -m pip install --upgrade pip\n"
     ]
    }
   ],
   "source": [
    "! pip install pygame"
   ]
  },
  {
   "cell_type": "code",
   "execution_count": 21,
   "metadata": {},
   "outputs": [
    {
     "data": {
      "text/plain": [
       "<Event(4352-AudioDeviceAdded {'which': 1, 'iscapture': 0})>"
      ]
     },
     "execution_count": 21,
     "metadata": {},
     "output_type": "execute_result"
    }
   ],
   "source": [
    "import pygame\n",
    "pygame.init()\n",
    "pygame.mixer.music.load('titanic.mp3')\n",
    "pygame.mixer.music.play()\n",
    "pygame.event.wait()"
   ]
  },
  {
   "cell_type": "markdown",
   "metadata": {},
   "source": [
    "# aula 09  fatiamento "
   ]
  },
  {
   "cell_type": "code",
   "execution_count": 14,
   "metadata": {},
   "outputs": [
    {
     "name": "stdout",
     "output_type": "stream",
     "text": [
      "s o e\n",
      "so em vide\n",
      "Curso em video\n",
      "Croe ie\n",
      "21 , 3\n",
      "Curso em video android\n"
     ]
    }
   ],
   "source": [
    "frase = 'Curso em video Python'\n",
    "print(frase[3], frase[4], frase[6])\n",
    "print(frase[3:13])\n",
    "print(frase [:14])  # sem começo ate o final\n",
    "print(frase[:14:2]) # pulando de 2 em 2 \n",
    "print(len(frase),',', frase.count('o'))\n",
    "print(frase.replace('Python', 'android'))\n"
   ]
  },
  {
   "cell_type": "markdown",
   "metadata": {},
   "source": [
    "### USANDO 3 ASPAS e colando texto copiado"
   ]
  },
  {
   "cell_type": "code",
   "execution_count": 17,
   "metadata": {},
   "outputs": [
    {
     "name": "stdout",
     "output_type": "stream",
     "text": [
      "Sempre achei que era muito forte dizer para alguém \"EU TE AMO\". Depois que te conheci, eu te amo virou uma palavra que sai naturalmente do meu coração.\n"
     ]
    }
   ],
   "source": [
    "print('''Sempre achei que era muito forte dizer para alguém \"EU TE AMO\". Depois que te conheci, eu te amo virou uma palavra que sai naturalmente do meu coração.''')"
   ]
  },
  {
   "cell_type": "markdown",
   "metadata": {},
   "source": [
    "### aula 9  - desafio 22 \n",
    "crie um programa  que leia on mome completo "
   ]
  },
  {
   "cell_type": "code",
   "execution_count": 22,
   "metadata": {},
   "outputs": [
    {
     "name": "stdout",
     "output_type": "stream",
     "text": [
      " Analissando seu nome...\n",
      "Seu nome em maiuscula é JOSE MARIA DA SILVA\n",
      "Seu nome em minuscula é jose maria da silva \n",
      "Seu nome tem ao todo 19 letras \n",
      "Seu nome tem ao todo 16 letras \n"
     ]
    }
   ],
   "source": [
    "nome = str(input('Digite seu nome: '))\n",
    "print(' Analissando seu nome...')\n",
    "print('Seu nome em maiuscula é {}' .format(nome.upper()))\n",
    "print('Seu nome em minuscula é {} ' .format(nome.lower()))\n",
    "print('Seu nome tem ao todo {} letras ' .format(len(nome)))\n",
    "print('Seu nome tem ao todo {} letras ' .format(len(nome) - nome.count(' ')))\n"
   ]
  },
  {
   "cell_type": "markdown",
   "metadata": {},
   "source": [
    "## desafio 23\n",
    "\n",
    "#### faça um programa queleia  o numero 0 a 999  e mostre cada um separado "
   ]
  },
  {
   "cell_type": "code",
   "execution_count": 31,
   "metadata": {},
   "outputs": [
    {
     "name": "stdout",
     "output_type": "stream",
     "text": [
      " analisando o numero 15\n",
      "unidade : 5\n",
      "dezena: 1\n",
      "centena: 0\n",
      "milhar: 0\n"
     ]
    }
   ],
   "source": [
    "num = int(input('Informe um numero:'))\n",
    "u = num // 1 % 10\n",
    "d = num // 10 % 10\n",
    "c = num // 100 % 10\n",
    "m = num // 1000 % 10\n",
    "print(' analisando o numero {}' .format(num))\n",
    "print('unidade : {}' .format(u))\n",
    "print('dezena: {}' .format(d))\n",
    "print('centena: {}' .format(c))\n",
    "print('milhar: {}' .format(m))\n"
   ]
  },
  {
   "cell_type": "markdown",
   "metadata": {},
   "source": [
    "# desafio 24 \n",
    "\n",
    "#### crie um programa que leia  o nome de uma cidade e diga se ela começa com a palavra santo\n"
   ]
  },
  {
   "cell_type": "code",
   "execution_count": 43,
   "metadata": {},
   "outputs": [
    {
     "name": "stdout",
     "output_type": "stream",
     "text": [
      "False\n"
     ]
    }
   ],
   "source": [
    "cid = str(input(' Em que cidade vc nasceu? ')).strip() # strip elimina os espaço para nao dar erro\n",
    "print(cid[:5].upper() == 'SANTO') # upper converte para maiuscula para nao ter erro se o usu digitar em minuscula"
   ]
  },
  {
   "cell_type": "markdown",
   "metadata": {},
   "source": [
    "# Desafio 25 \n",
    "\n",
    "#### crie um programa e veja se ela tem silva no nome"
   ]
  },
  {
   "cell_type": "code",
   "execution_count": 52,
   "metadata": {},
   "outputs": [
    {
     "name": "stdout",
     "output_type": "stream",
     "text": [
      "joao carlos valeu\n",
      "esse nome  é: False \n"
     ]
    }
   ],
   "source": [
    "nome = str(input(' digite seu nome completo?'))\n",
    "print(nome)\n",
    "print( 'esse nome  é: {} ' .format('silva' in nome.lower())) #utilizando operado in e convertendo tudo para minuscula\n"
   ]
  },
  {
   "cell_type": "markdown",
   "metadata": {},
   "source": [
    "# Desafio 26\n",
    "\n",
    "#### leia a frase e mostre \n",
    "quantas vezes aparece aletra a\n",
    "em qual posição aparece a letra a\n",
    "em que posição ela aparece pela ultima vez  "
   ]
  },
  {
   "cell_type": "code",
   "execution_count": 55,
   "metadata": {},
   "outputs": [
    {
     "name": "stdout",
     "output_type": "stream",
     "text": [
      "ARARA AZUL\n",
      " a letra A aparece 4\n",
      "a primeira letra A aparece na posição 1\n",
      " a ultima letraa aparece na posição 7\n"
     ]
    }
   ],
   "source": [
    "frase = str(input('digite uma frase:')).upper().strip() # transforma para maiuscula e tirar os espaços\n",
    "print(frase)\n",
    "print(' a letra A aparece {}' . format(frase.count('A')))\n",
    "print( 'a primeira letra A aparece na posição {}' .format(frase.find('A')+1))\n",
    "print( ' a ultima letraa aparece na posição {}' . format(frase.rfind('A')+1))"
   ]
  },
  {
   "cell_type": "markdown",
   "metadata": {},
   "source": [
    "# Desafio 27 \n",
    "leia o nome , mostre  o primeiro e o ultino nome\n"
   ]
  },
  {
   "cell_type": "code",
   "execution_count": 9,
   "metadata": {},
   "outputs": [
    {
     "name": "stdout",
     "output_type": "stream",
     "text": [
      "José Escudero Fernandes Neto\n",
      "['José', 'Escudero', 'Fernandes', 'Neto']\n",
      "seu primeirto nome é José \n",
      "seu ultimo nome é Neto\n"
     ]
    }
   ],
   "source": [
    "n = str(input(' Digite seu nome: ')).strip()\n",
    "nome = n.split() # split fatia e divide em lista\n",
    "print(n)\n",
    "print(nome)\n",
    "print('seu primeirto nome é {} ' .format(nome[0]))\n",
    "print('seu ultimo nome é {}' .format(nome[len(nome)-1]))\n"
   ]
  },
  {
   "cell_type": "markdown",
   "metadata": {},
   "source": [
    "# Aula 10 - Condiçoes (parte 01)"
   ]
  },
  {
   "cell_type": "code",
   "execution_count": 16,
   "metadata": {},
   "outputs": [
    {
     "name": "stdout",
     "output_type": "stream",
     "text": [
      "carro novo\n",
      "--Fim--\n",
      "carro novo\n",
      "--fim--\n"
     ]
    }
   ],
   "source": [
    "tempo = int(input('Quantos anos tem seu carro : '))\n",
    "if tempo <=3:\n",
    "    print('carro novo')\n",
    "else:\n",
    "    print('carro velho')\n",
    "print('--Fim--')\n",
    "\n",
    "# ou pode ser feito assim tambem\n",
    "print('carro novo'if tempo <=3 else'carro velho')\n",
    "print('--fim--')"
   ]
  },
  {
   "cell_type": "code",
   "execution_count": 35,
   "metadata": {},
   "outputs": [
    {
     "name": "stdout",
     "output_type": "stream",
     "text": [
      "Que nome lindo vc tem\n",
      "Bom dia JOSE!!\n",
      "Que nome lindo vc tem\n",
      "Bom dia JOSE!!\n"
     ]
    }
   ],
   "source": [
    "# condição simples \n",
    "nome = str(input('Qual o seu nome? ')).upper()\n",
    "if nome == 'JOSE':\n",
    "    print('Que nome lindo vc tem')\n",
    "print('Bom dia {}!!' .format(nome))\n",
    "\n",
    "#condição composta\n",
    "if nome == 'JOSE':\n",
    "    print('Que nome lindo vc tem')\n",
    "else:\n",
    "    print(' Seu nome e tao normal !!')\n",
    "print('Bom dia {}!!' .format(nome))"
   ]
  },
  {
   "cell_type": "code",
   "execution_count": 38,
   "metadata": {},
   "outputs": [
    {
     "name": "stdout",
     "output_type": "stream",
     "text": [
      "A sua media foi 4.5\n",
      " Deu ruim . ESTUDE MAIS \n",
      "deu ruim ESTUDE MAIS\n"
     ]
    }
   ],
   "source": [
    "n1 = float(input(' digite a primeira nota : '))\n",
    "n2 = float(input(' Digite a segunda nota: '))\n",
    "n = (n1 + n2)/2\n",
    "print('A sua media foi {}' .format(n))\n",
    "if n >=6.0:\n",
    "    print('sua media foi boa. PARABENS !!!')\n",
    "else:\n",
    "    print(' Deu ruim . ESTUDE MAIS ')\n",
    "    \n",
    "# ou pode ser assim de maneira simplificada \n",
    "print('PARABENS !!!' if n>=6 else 'deu ruim ESTUDE MAIS')\n"
   ]
  },
  {
   "cell_type": "markdown",
   "metadata": {},
   "source": [
    "# Desafio 28  ( aula 10)"
   ]
  },
  {
   "cell_type": "code",
   "execution_count": 1,
   "metadata": {},
   "outputs": [
    {
     "name": "stdout",
     "output_type": "stream",
     "text": [
      "-=--=--=--=--=--=--=--=--=--=--=--=--=--=--=--=--=--=--=--=-\n",
      " Vou pensar em um numero de 0 a 5 . tente adivinhar ...\n",
      "-=--=--=--=--=--=--=--=--=--=--=--=--=--=--=--=--=--=--=--=-\n",
      "PROCESSANDO.... estou pensando \n",
      "GANHEI!!! eu pensei no numero 2 e nao no numero 5\n"
     ]
    }
   ],
   "source": [
    "# CRIANDO JOGUINHO - VOU PENSAR EM NUMERO DE 0 A 5 . TENTE ADIVINHAR \n",
    "\n",
    "from random import randint # randint retorna um numero aleatorio \n",
    "from time import sleep # sleep da algun tempo para execução  como se tivesse pensando\n",
    "computador = randint(0, 5) # faz o computador sortear \n",
    "print('-=-' * 20)\n",
    "print(' Vou pensar em um numero de 0 a 5 . tente adivinhar ...')\n",
    "print('-=-' * 20 )\n",
    "jogador = int(input(' em que numero eu pensei? ')) # JOGADOR TENTA ADIVINHAR\n",
    "print( 'PROCESSANDO.... estou pensando ')\n",
    "sleep(2)\n",
    "if jogador == computador:\n",
    "    print('PARABENS !!! CONSEGUIU ME VENCER eu pensei no numero {}' . format(computador))\n",
    "else:\n",
    "    print('GANHEI!!! eu pensei no numero {} e nao no numero {}' . format(computador, jogador))\n"
   ]
  },
  {
   "cell_type": "markdown",
   "metadata": {},
   "source": [
    "# Desafio 29 ( aula 10)\n",
    "escreva um programa que leia a  velocidade de um carro,\n",
    "se ultrapassar 80 km/h mostre foi multado\n",
    "a multa vai custar R$ 7.00 por cada km acima do limite"
   ]
  },
  {
   "cell_type": "code",
   "execution_count": 13,
   "metadata": {},
   "outputs": [
    {
     "name": "stdout",
     "output_type": "stream",
     "text": [
      "100.0 km/h\n",
      "MULTADO! vc excedeu o limete de 80 km/h \n",
      "voce deve pagar uma multa de R$140.00\n",
      "Tenha um bom dia! Dirija com segurança!\n"
     ]
    }
   ],
   "source": [
    "velocidade = float(input('Qual a velocidade atual do carro? '))\n",
    "print(velocidade ,'km/h')\n",
    "if velocidade >80:\n",
    "    print('MULTADO! vc excedeu o limete de 80 km/h ')\n",
    "    multa = (velocidade-80) * 7\n",
    "    print('voce deve pagar uma multa de R${:.2f}' .format(multa))\n",
    "print('Tenha um bom dia! Dirija com segurança!')"
   ]
  },
  {
   "cell_type": "markdown",
   "metadata": {},
   "source": [
    "# Desafio 30 ( aula 10 )\n",
    "crie um programa que leia um numero inteiro\n",
    "e mostre na tela se ele é par ou impar"
   ]
  },
  {
   "cell_type": "code",
   "execution_count": 20,
   "metadata": {},
   "outputs": [
    {
     "name": "stdout",
     "output_type": "stream",
     "text": [
      "11\n",
      " o numero11 é impar\n"
     ]
    }
   ],
   "source": [
    "#  o resto da divisao por 2 , se for par é 0 se for impar é 1 \n",
    "numero = int(input(' me diga um numero qualquer: '))\n",
    "print(numero)\n",
    "resultado = numero % 2\n",
    "if resultado == 0:\n",
    "    print( 'o numero {} é par ' .format(numero))\n",
    "else:\n",
    "    print(' o numero {} é impar' .format(numero))\n",
    "\n"
   ]
  },
  {
   "cell_type": "markdown",
   "metadata": {},
   "source": [
    "# Desafio 31 ( aula 10)\n",
    "custo da viajem . pergunte a distancia  de uma viagem em k,.\n",
    "calcule o preço  da passagem , cobrando R$0.50 por km  para viagens de ate 200 km e r4 0,45 para viagens mais longas "
   ]
  },
  {
   "cell_type": "code",
   "execution_count": 29,
   "metadata": {},
   "outputs": [
    {
     "name": "stdout",
     "output_type": "stream",
     "text": [
      "Voce esta prestes a começa uma viagem de 201.0 km \n",
      "O preço da sua passagem sera de 90.45\n",
      "O preço da sua passagem sera de 90.45\n"
     ]
    }
   ],
   "source": [
    "distancia = float(input('Qual adistancia dasua viagem? '))\n",
    "print('Voce esta prestes a começa uma viagem de {} km ' .format(distancia))\n",
    "if distancia <=200:\n",
    "    preço = distancia * 0.50\n",
    "else:\n",
    "    preço = distancia * 0.45    \n",
    "print('O preço da sua passagem sera de {:.2f}' .format(preço))\n",
    "#maneira simplificada \n",
    "preço = distancia * 0.50 if distancia <= 200 else distancia * 0.45 \n",
    "print('O preço da sua passagem sera de {:.2f}' .format(preço))"
   ]
  },
  {
   "cell_type": "markdown",
   "metadata": {},
   "source": [
    "# Desafio 32 (aula 10)\n",
    "leia um ano qualquer se ele é bissexto\n"
   ]
  },
  {
   "cell_type": "code",
   "execution_count": 14,
   "metadata": {},
   "outputs": [
    {
     "name": "stdout",
     "output_type": "stream",
     "text": [
      " o ano 1900 nao é BISSEXTO!\n"
     ]
    }
   ],
   "source": [
    "from datetime import date\n",
    "ano = int(input(' Que ano que analisar ? coloque 0 para nalisar o ano atual: '))\n",
    "if ano == 0:\n",
    "    ano = date.today().year\n",
    "if ano % 4 == 0 and ano % 100 != 0 or ano % 400 == 0:\n",
    "    print(\" o ano {} é BISSEXTO\" .format(ano))\n",
    "else:\n",
    "    print(' o ano {} nao é BISSEXTO!'.format(ano))\n"
   ]
  },
  {
   "cell_type": "markdown",
   "metadata": {},
   "source": [
    "# Desafio 33 (aula10)\n",
    "\n",
    "faça um programa que leia 3 numero e mostre qual é o maior e qual o menor\n"
   ]
  },
  {
   "cell_type": "code",
   "execution_count": 27,
   "metadata": {},
   "outputs": [
    {
     "name": "stdout",
     "output_type": "stream",
     "text": [
      "945 254 873\n",
      "O menor valor digitado foi254\n",
      "O maior valor digitado foi945\n"
     ]
    }
   ],
   "source": [
    "a = int(input(' Primeiro valor: '))\n",
    "b = int(input('Segundo valor: '))\n",
    "c = int(input('terceiro valor: '))\n",
    "#verifica quem é menor\n",
    "menor = a\n",
    "if b<a and b<c:\n",
    "    menor = b\n",
    "if c<a and c<b:\n",
    "    menor = c\n",
    "# verifica o maior \n",
    "maior = a  \n",
    "if b>a and b>c:\n",
    "    maior = b\n",
    "if c>a and c>b:\n",
    "    maior = c\n",
    "print(a, b, c)\n",
    "print('O menor valor digitado foi{}'.format(menor))\n",
    "print('O maior valor digitado foi{}'.format(maior))\n"
   ]
  },
  {
   "cell_type": "markdown",
   "metadata": {},
   "source": [
    "# Desafio 34 (aula 10)\n",
    "escreva um programa  que pergunte o salario de um funcionario  ecalcule o valor do seu aumento \n",
    "Para salario  superior a R$ 1250,00 calcule um aumento de 10 %\n",
    "para inferiores ou iguais  o aumento é de 15%"
   ]
  },
  {
   "cell_type": "code",
   "execution_count": 31,
   "metadata": {},
   "outputs": [
    {
     "name": "stdout",
     "output_type": "stream",
     "text": [
      "2000.0\n",
      " quem ganhava 2000.00 passa a ganhar 2200.00\n"
     ]
    }
   ],
   "source": [
    "salario = float(input('Qual é o salario do funcionario? R$ '))\n",
    "if salario <= 1250:\n",
    "    novo = salario + (salario * 15 / 100)\n",
    "else:\n",
    "    novo = salario + (salario * 10 / 100)\n",
    "print(salario)\n",
    "print( ' quem ganhava {:.2f} passa a ganhar {:.2f}'.format(salario, novo))\n"
   ]
  },
  {
   "cell_type": "markdown",
   "metadata": {},
   "source": [
    "# Desafio 35 ( aula 10)\n",
    "desenvolvam um programa  que leia  o commprimento de tres retas e diga ao usuario  se velas podem ou nao formar um triangulo "
   ]
  },
  {
   "cell_type": "code",
   "execution_count": 36,
   "metadata": {},
   "outputs": [
    {
     "name": "stdout",
     "output_type": "stream",
     "text": [
      "-=-=-=-=-=-=-=-=-=-=-=-=-=-=-=-=-=-=-=-=\n",
      " Analisador de triangulo\n",
      "-=-=-=-=-=-=-=-=-=-=-=-=-=-=-=-=-=-=-=-=\n",
      "25.0 12.0 8.0\n",
      " Os elementos nao podem formar traingulos!! \n"
     ]
    }
   ],
   "source": [
    "print('-=' *20)\n",
    "print(' Analisador de triangulo')\n",
    "print('-=' * 20)\n",
    "r1 = float(input('primeiro segmento: '))\n",
    "r2 = float(input(' segundo segmento: '))\n",
    "r3 = float(input(' terceiro segmento: '))\n",
    "print( r1,r2,r3)\n",
    "if r1 < r2 + r3 and r2 < r1 + r3 and r3 < r1 + r2:\n",
    "    print(' os elementos podem formar triangulos!!')\n",
    "else:\n",
    "    print(' Os elementos nao podem formar traingulos!! ')"
   ]
  }
 ],
 "metadata": {
  "kernelspec": {
   "display_name": "Python 3",
   "language": "python",
   "name": "python3"
  },
  "language_info": {
   "codemirror_mode": {
    "name": "ipython",
    "version": 3
   },
   "file_extension": ".py",
   "mimetype": "text/x-python",
   "name": "python",
   "nbconvert_exporter": "python",
   "pygments_lexer": "ipython3",
   "version": "3.12.3"
  }
 },
 "nbformat": 4,
 "nbformat_minor": 2
}
