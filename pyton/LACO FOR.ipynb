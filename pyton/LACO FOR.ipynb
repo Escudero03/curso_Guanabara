{
 "cells": [
  {
   "cell_type": "markdown",
   "metadata": {},
   "source": [
    "# Estrutura de  controle \n",
    "aula 13  LAÇO FOR "
   ]
  },
  {
   "cell_type": "code",
   "execution_count": 4,
   "metadata": {},
   "outputs": [
    {
     "name": "stdout",
     "output_type": "stream",
     "text": [
      "oi\n",
      "0\n",
      "oi\n",
      "1\n",
      "oi\n",
      "2\n",
      "oi\n",
      "3\n",
      "oi\n",
      "4\n",
      "oi\n",
      "5\n",
      "FIM !!!\n"
     ]
    }
   ],
   "source": [
    "for c in range(0, 6):\n",
    "    print('oi')\n",
    "    print(c)\n",
    "print('FIM !!!')"
   ]
  },
  {
   "cell_type": "code",
   "execution_count": 5,
   "metadata": {},
   "outputs": [
    {
     "name": "stdout",
     "output_type": "stream",
     "text": [
      "oi\n",
      "0\n",
      "oi\n",
      "2\n",
      "oi\n",
      "4\n",
      "FIM !!!\n"
     ]
    }
   ],
   "source": [
    "for c in range(0, 6, 2):\n",
    "    print('oi')\n",
    "    print(c)\n",
    "print('FIM !!!')"
   ]
  },
  {
   "cell_type": "code",
   "execution_count": 6,
   "metadata": {},
   "outputs": [
    {
     "name": "stdout",
     "output_type": "stream",
     "text": [
      "0\n",
      "1\n",
      "2\n",
      "3\n",
      "4\n",
      "5\n",
      "6\n",
      "7\n",
      "8\n",
      "9\n",
      "fim\n"
     ]
    }
   ],
   "source": [
    "n = int(input('digite um numero: '))\n",
    "for c in range(0, n):\n",
    "    print(c)\n",
    "print('fim')"
   ]
  },
  {
   "cell_type": "code",
   "execution_count": 13,
   "metadata": {},
   "outputs": [
    {
     "name": "stdout",
     "output_type": "stream",
     "text": [
      "1\n",
      "11\n",
      "21\n",
      "31\n",
      "41\n",
      "51\n",
      "61\n",
      "71\n",
      "81\n",
      "91\n",
      "fim\n"
     ]
    }
   ],
   "source": [
    "i = int(input('incio'))\n",
    "f = int(input('Fim'))\n",
    "p = int(input('passo: '))\n",
    "for c in range(i, f+1, p):\n",
    "    print(c)\n",
    "print(\"fim\")"
   ]
  },
  {
   "cell_type": "code",
   "execution_count": 14,
   "metadata": {},
   "outputs": [
    {
     "name": "stdout",
     "output_type": "stream",
     "text": [
      "O somatorio  de todos os  valores foi 20\n"
     ]
    }
   ],
   "source": [
    "s = 0\n",
    "for c in range(0, 4):\n",
    "    n = int(input('digite um valor: '))\n",
    "    s = s + n \n",
    "print('O somatorio  de todos os  valores foi {}'.format(s)) "
   ]
  },
  {
   "cell_type": "markdown",
   "metadata": {},
   "source": [
    "# Dessafio 46 \n",
    "faça um programa que mostre na tela  uma contagerm regressiva para  o estouro de fogos de artificio  de 10 ate 0  com uma pauda se 1 segundo entre eles "
   ]
  },
  {
   "cell_type": "code",
   "execution_count": null,
   "metadata": {},
   "outputs": [],
   "source": [
    "from time import sleep\n",
    "for cont in range(10, -1, -1):\n",
    "    print(cont)\n",
    "    sleep(0.5)\n",
    "print( 'BUM !!!   BUM \\!!!   POOOWWW!!!')\n",
    "\n"
   ]
  },
  {
   "cell_type": "markdown",
   "metadata": {},
   "source": [
    "# desafio 47\n",
    "crie um programa  que mostre na tela  todos os numeros pares  que estao no intervalo  entre 1 e50 \n"
   ]
  },
  {
   "cell_type": "code",
   "execution_count": 20,
   "metadata": {},
   "outputs": [
    {
     "name": "stdout",
     "output_type": "stream",
     "text": [
      "2 4 6 8 10 12 14 16 18 20 22 24 26 28 30 32 34 36 38 40 42 44 46 48 50 "
     ]
    }
   ],
   "source": [
    "for n in range(2, 51, 2):\n",
    "    print(n, end=' ')"
   ]
  },
  {
   "cell_type": "markdown",
   "metadata": {},
   "source": [
    "# Desafio 48\n",
    "faça um programa que calcule  a soma  entre todos  os numeros  impares que sao multiplos de tres e que se encontramno intervalo de 1 ate 500 "
   ]
  },
  {
   "cell_type": "code",
   "execution_count": 27,
   "metadata": {},
   "outputs": [
    {
     "name": "stdout",
     "output_type": "stream",
     "text": [
      " a soma de todos os83 valores  solicitados é 20667 \n"
     ]
    }
   ],
   "source": [
    "soma = 0\n",
    "cont = 0\n",
    "for c in range(1, 501, 2):\n",
    "    if c % 3 == 0:\n",
    "        cont = cont + 1\n",
    "        soma = soma + c \n",
    "print(' a soma de todos os{} valores  solicitados é {} '.format(cont, soma))"
   ]
  },
  {
   "cell_type": "markdown",
   "metadata": {},
   "source": [
    "# Desafio 49 \n",
    "refaça o desafio 9  mostrando a tabuada  de um numero  que o ususario  escolher , so que agora  um laço for \n"
   ]
  },
  {
   "cell_type": "code",
   "execution_count": 33,
   "metadata": {},
   "outputs": [
    {
     "name": "stdout",
     "output_type": "stream",
     "text": [
      "200 x 1 = 200\n",
      "200 x 2 = 400\n",
      "200 x 3 = 600\n",
      "200 x 4 = 800\n",
      "200 x 5 = 1000\n",
      "200 x 6 = 1200\n",
      "200 x 7 = 1400\n",
      "200 x 8 = 1600\n",
      "200 x 9 = 1800\n",
      "200 x 10 = 2000\n"
     ]
    }
   ],
   "source": [
    "num = int(input(' Digite um numero  para cer sua tabuada : '))\n",
    "for c in range(1, 11):\n",
    "    print('{} x {} = {}' .format(num, c, num*c))\n",
    "          "
   ]
  },
  {
   "cell_type": "markdown",
   "metadata": {},
   "source": [
    "# Desafio 50\n",
    "Desenvolva um programa que leia 6 numeros inteiros  e mostre a soma  apenas  daqueles  que forem pares . se o valor digitado  for impar  , desconsidera-o "
   ]
  },
  {
   "cell_type": "code",
   "execution_count": 40,
   "metadata": {},
   "outputs": [
    {
     "name": "stdout",
     "output_type": "stream",
     "text": [
      " vc informou 3 e a soma foi 6\n"
     ]
    }
   ],
   "source": [
    "soma = 0\n",
    "cont = 0\n",
    "for c in range(1, 7):\n",
    "    num = int(input(' digite o {} valor : '.format(c)))\n",
    "    if num % 2 == 0:\n",
    "        soma = soma + num\n",
    "        cont = cont + 1 \n",
    "print(' vc informou {} e a soma foi {}'.format(cont, soma))\n"
   ]
  },
  {
   "cell_type": "markdown",
   "metadata": {},
   "source": [
    "# Desafio 51\n",
    "desenvolva um programa que leia o primeiro  termo e a razao  de um Pa . no final  mostre os 10 primeiros termos  dessa progressao "
   ]
  },
  {
   "cell_type": "code",
   "execution_count": 4,
   "metadata": {},
   "outputs": [
    {
     "name": "stdout",
     "output_type": "stream",
     "text": [
      "2 → 52 → 102 → 152 → 202 → 252 → 302 → 352 → 402 → 452 → acabou\n"
     ]
    }
   ],
   "source": [
    "primeiro = int(input('Primeiro termo: '))\n",
    "razao = int(input('razao: '))\n",
    "decimo = primeiro + (10-1) * razao \n",
    "for c in range(primeiro, decimo + razao, razao):\n",
    "    print( '{}' .format(c), end=' → ')\n",
    "print('acabou')"
   ]
  },
  {
   "cell_type": "markdown",
   "metadata": {},
   "source": [
    "# Desafio 52 \n",
    "faça um programa que leia um numero inteiro e diga se ele e  ou nao  um numero primo "
   ]
  },
  {
   "cell_type": "code",
   "execution_count": 21,
   "metadata": {},
   "outputs": [
    {
     "name": "stdout",
     "output_type": "stream",
     "text": [
      "\u001b[33m1 \u001b[33m2  \n",
      "\u001b[m0 numero 2 foi divisil 2 vezes\n",
      " e por isso ele é primo!!!\n"
     ]
    }
   ],
   "source": [
    "num = int(input(' digite um numero: '))\n",
    "tot = 0\n",
    "for c in range(1, num + 1 ):\n",
    "    if num % c == 0:\n",
    "        print('\\033[33m', end='')\n",
    "        tot = tot + 1 \n",
    "    else:\n",
    "        print('\\033[31m', end='')\n",
    "    print('{} '.format(c), end='')\n",
    "print(' \\n\\033[m0 numero {} foi divisil {} vezes'.format(num,tot))\n",
    "if tot == 2:\n",
    "    print(' e por isso ele é primo!!!')\n",
    "else:\n",
    "    print(' e por issso ele nao e primo!!!!! viu so‼♥♥♥')"
   ]
  },
  {
   "cell_type": "markdown",
   "metadata": {},
   "source": [
    "# Desafio 53\n",
    "crie um programa  que leia uma frase  qualquer e diga se  ela e um PALINDROMO, desconsiderando  os espaçõs.\n",
    "exemplo:\n",
    "- apos a sopa\n",
    "- a sacada da casa \n",
    "- a torre da derrota \n",
    "- o lobo ama o bolo \n",
    "- anotaram  a data da maratona \n",
    "\n"
   ]
  },
  {
   "cell_type": "code",
   "execution_count": 30,
   "metadata": {},
   "outputs": [
    {
     "name": "stdout",
     "output_type": "stream",
     "text": [
      "a frase digitada nao é um palindromo!!\n",
      "JOSENETO OTENESOJ\n"
     ]
    }
   ],
   "source": [
    "frase = str(input('digite a frase :')).strip().upper()\n",
    "palavra = frase.split()\n",
    "junto = ''.join(palavra)\n",
    "inverso = ''\n",
    "for letra in range (len(junto) -1, -1, -1):\n",
    "    inverso = inverso + junto[letra]\n",
    "if inverso == junto:\n",
    "    print(' temos um palindromo!!!')\n",
    "else:\n",
    "    print( 'a frase digitada nao é um palindromo!!')\n",
    "print(junto, inverso)"
   ]
  },
  {
   "cell_type": "code",
   "execution_count": 31,
   "metadata": {},
   "outputs": [
    {
     "name": "stdout",
     "output_type": "stream",
     "text": [
      " temos um palindromo!!!\n",
      "ANA ANA\n"
     ]
    }
   ],
   "source": [
    "#usando um macete no  pyton com fatiamento , sem laço for\n",
    "frase = str(input('digite a frase :')).strip().upper()\n",
    "palavra = frase.split()\n",
    "junto = ''.join(palavra)\n",
    "inverso = junto[::-1]\n",
    "if inverso == junto:\n",
    "    print(' temos um palindromo!!!')\n",
    "else:\n",
    "    print( 'a frase digitada nao é um palindromo!!')\n",
    "print(junto, inverso)"
   ]
  },
  {
   "cell_type": "markdown",
   "metadata": {},
   "source": [
    "# Desafio 54 \n",
    "crie um programa que leia  o ano de nascimento  de sete pessoas . No final mostre:\n",
    "- quantas pessoas ainda nao  atingiram a maioridade  e\n",
    "- quantas ja sao maiores \n"
   ]
  },
  {
   "cell_type": "code",
   "execution_count": 5,
   "metadata": {},
   "outputs": [
    {
     "name": "stdout",
     "output_type": "stream",
     "text": [
      " essa pessoa tem 17 anos \n",
      " ao todo tivemos 4  perssoas maiores de idade \n",
      " e tambem tivemos 2 pessoas menores de idade\n"
     ]
    }
   ],
   "source": [
    "from datetime import date\n",
    "atual = date.today().year\n",
    "totmaior = 0\n",
    "totmenor = 0\n",
    "for pess in range (1, 7):\n",
    "    nasc = int(input( 'emque ano a {} pessoa nasceu: '.format(pess)))\n",
    "    idade = atual - nasc\n",
    "    if idade >= 21:\n",
    "        totmaior = totmaior + 1        \n",
    "    else:\n",
    "        totmenor = totmenor + 1      \n",
    "print(' essa pessoa tem {} anos '.format(idade))\n",
    "print(' ao todo tivemos {}  perssoas maiores de idade '.format(totmaior))\n",
    "print(' e tambem tivemos {} pessoas menores de idade'.format(totmenor))\n"
   ]
  },
  {
   "cell_type": "markdown",
   "metadata": {},
   "source": [
    "# Desafio 55\n",
    "Faça um programa  que leia o peso  de cinco pessoas . no final mostre   qual foi o maior  e o menor peso lidos \n"
   ]
  },
  {
   "cell_type": "code",
   "execution_count": 12,
   "metadata": {},
   "outputs": [
    {
     "name": "stdout",
     "output_type": "stream",
     "text": [
      "80.0\n",
      "110.0\n",
      "25.0\n",
      "68.0\n",
      "152.0\n",
      "o maior ppeso lido foi de 152.0kg\n",
      "o menor peso  lido foi de 25.0\n"
     ]
    }
   ],
   "source": [
    "for p in range(1, 6):\n",
    "    peso = float(input('peso da {}° pessoa :'.format(p)))\n",
    "    print(peso)\n",
    "    if p == 1:\n",
    "        maior = peso\n",
    "        menor = peso\n",
    "    else:\n",
    "        if peso > maior:\n",
    "            maior = peso\n",
    "        if peso < menor:\n",
    "            menor = peso\n",
    "print( 'o maior ppeso lido foi de {}kg'.format(maior))\n",
    "print('o menor peso  lido foi de {}'.format(menor))\n",
    "\n"
   ]
  },
  {
   "cell_type": "markdown",
   "metadata": {},
   "source": [
    "# Desafio 56 \n",
    "Desenvolva um programa que leia  o nome , idade e sexo de 4 pessoas . no final mostre :\n",
    "- a media da idade do grupo\n",
    "- qual e o nome do homem mais velho\n",
    "- quantas mulheres tem menos de 20 anos "
   ]
  },
  {
   "cell_type": "code",
   "execution_count": 17,
   "metadata": {},
   "outputs": [
    {
     "name": "stdout",
     "output_type": "stream",
     "text": [
      "-----1° pessoa ------\n",
      "o nome da pessoa é : jessica  tem 23 anos. e seu sexo é f.\n",
      "-----2° pessoa ------\n",
      "o nome da pessoa é : claudio  tem 12 anos. e seu sexo é m.\n",
      "-----3° pessoa ------\n",
      "o nome da pessoa é : pedro  tem 75 anos. e seu sexo é m.\n",
      "-----4° pessoa ------\n",
      "o nome da pessoa é : maria  tem 15 anos. e seu sexo é f.\n",
      " a media de idade do grupo e de 31.25 anos\n",
      "o homem mais velho tem 75 anos e se chama pedro\n",
      "ao todo sao 1 mulheres com menos de 20 anos  \n"
     ]
    }
   ],
   "source": [
    "somaidade = 0\n",
    "mediaidade = 0 \n",
    "maioridadehomem = 0\n",
    "nomevelho = '' \n",
    "totmulher20 = 0\n",
    "for p in range(1, 5):\n",
    "    print('-----{}° pessoa ------'.format(p))\n",
    "    nome = str(input('nome: ')).strip()\n",
    "    idade = int(input('idade:'))\n",
    "    sexo  = str(input('sexo [m/f]: ')).strip()\n",
    "    print('o nome da pessoa é : {}  tem {} anos. e seu sexo é {}.'.format(nome, idade, sexo))\n",
    "    somaidade = somaidade + idade\n",
    "    if p == 1 and sexo in 'Mm':\n",
    "        maioridadehomem = idade\n",
    "        nomevelho = nome\n",
    "    if sexo in 'Mm' and idade > maioridadehomem:\n",
    "        maioridadehomem = idade\n",
    "        nomevelho = nome\n",
    "    if sexo in 'Ff' and idade < 20:\n",
    "        totmulher20 = totmulher20 + 1\n",
    "mediaidade = somaidade / 4 \n",
    "print(' a media de idade do grupo e de {} anos'.format(mediaidade))\n",
    "print('o homem mais velho tem {} anos e se chama {}'.format(maioridadehomem, nomevelho))\n",
    "print('ao todo sao {} mulheres com menos de 20 anos  '.format(totmulher20))\n",
    " "
   ]
  },
  {
   "cell_type": "markdown",
   "metadata": {},
   "source": []
  }
 ],
 "metadata": {
  "kernelspec": {
   "display_name": "Python 3",
   "language": "python",
   "name": "python3"
  },
  "language_info": {
   "codemirror_mode": {
    "name": "ipython",
    "version": 3
   },
   "file_extension": ".py",
   "mimetype": "text/x-python",
   "name": "python",
   "nbconvert_exporter": "python",
   "pygments_lexer": "ipython3",
   "version": "3.12.3"
  }
 },
 "nbformat": 4,
 "nbformat_minor": 2
}
