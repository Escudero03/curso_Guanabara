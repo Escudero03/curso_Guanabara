{
 "cells": [
  {
   "cell_type": "markdown",
   "metadata": {},
   "source": [
    "# LISTAS  - aula 17"
   ]
  },
  {
   "cell_type": "code",
   "execution_count": 1,
   "metadata": {},
   "outputs": [
    {
     "name": "stdout",
     "output_type": "stream",
     "text": [
      " na posição 0 encontrei o valor 5!!\n",
      " na posição 1 encontrei o valor 9!!\n",
      " na posição 2 encontrei o valor 4!!\n",
      "cheguei ao final da lista \n"
     ]
    }
   ],
   "source": [
    "valores = []\n",
    "valores.append(5)\n",
    "valores.append(9)\n",
    "valores.append(4)\n",
    "\n",
    "for c, v in enumerate(valores):\n",
    "    print(f' na posição {c} encontrei o valor {v}!!')\n",
    "print('cheguei ao final da lista ')"
   ]
  },
  {
   "cell_type": "code",
   "execution_count": 2,
   "metadata": {},
   "outputs": [
    {
     "name": "stdout",
     "output_type": "stream",
     "text": [
      "5...9...4..."
     ]
    }
   ],
   "source": [
    "valores = []\n",
    "valores.append(5)\n",
    "valores.append(9)\n",
    "valores.append(4)\n",
    "\n",
    "for v in valores:\n",
    "    print(f'{v}...', end='')"
   ]
  },
  {
   "cell_type": "code",
   "execution_count": 5,
   "metadata": {},
   "outputs": [
    {
     "name": "stdout",
     "output_type": "stream",
     "text": [
      "0\n",
      "1\n",
      "2\n",
      "3\n",
      "4\n",
      " na posição 0 encontrei o valor 2!!\n",
      " na posição 1 encontrei o valor 3!!\n",
      " na posição 2 encontrei o valor 6!!\n",
      " na posição 3 encontrei o valor 9!!\n",
      " na posição 4 encontrei o valor 8!!\n",
      "cheguei ao final da lista \n"
     ]
    }
   ],
   "source": [
    "valores = list()\n",
    "for cont in range(0, 5 ):\n",
    "    valores.append(int(input('digite um valor: ')))\n",
    "    print(cont)\n",
    "\n",
    "for c, v in enumerate(valores):\n",
    "    print(f' na posição {c} encontrei o valor {v}!!')\n",
    "print('cheguei ao final da lista ')"
   ]
  },
  {
   "cell_type": "markdown",
   "metadata": {},
   "source": [
    "# Desafio 78 \n",
    "Faça um programa  que leia 54 valores  numericos  e guarde os em uma lista . NO final mostre qual foi o maior  e o menor  valor digitado  e as suas respectivas  posiçoes na lista. "
   ]
  },
  {
   "cell_type": "code",
   "execution_count": 9,
   "metadata": {},
   "outputs": [
    {
     "name": "stdout",
     "output_type": "stream",
     "text": [
      "0\n",
      "1\n",
      "2\n",
      "3\n",
      "4\n",
      "=-=-=-=-=-=-=-=-=-=-=-=-=-=-=-=-=-=-=-=-=-=-=-=-=-=-=-=-=-=-\n",
      "vc digitou osvalores [8, 5, 8, 5, 1]\n",
      " O maior valor digitados foi 8 nas posiçoes  0...2...\n",
      " O menor valor digitados foi 1 na posição  4...\n"
     ]
    }
   ],
   "source": [
    "listanum = []\n",
    "maior = menor = 0\n",
    "for c in range(0, 5):\n",
    "    listanum.append(int(input(f'Digite um valor para a posição {c} ')))\n",
    "    print(c)\n",
    "    if c ==0:\n",
    "        maior = menor = listanum[c]\n",
    "    else:\n",
    "        if listanum[c] > maior:\n",
    "            maior = listanum [c]\n",
    "        if listanum[c] < menor:\n",
    "            menor = listanum[c]\n",
    "\n",
    "print('=-'*30)\n",
    "print(f'vc digitou osvalores {listanum}')\n",
    "print(f' O maior valor digitados foi {maior} nas posiçoes ', end=' ')\n",
    "for i, v in  enumerate(listanum):\n",
    "    if v == maior:\n",
    "        print(f'{i}...', end='')\n",
    "print()\n",
    "print(f' O menor valor digitados foi {menor} na posição ', end=' ')\n",
    "for i, v in enumerate(listanum):\n",
    "    if v == menor:\n",
    "        print(f'{i}...', end='')\n",
    "print()"
   ]
  },
  {
   "cell_type": "markdown",
   "metadata": {},
   "source": [
    "# Desafio 79\n",
    "Crie um programa  onde o usuario  possa digitar  valrios valores numericos  e cadstre- os em uma lista. caso o numero ja exista la dentro , ele nao sera adicionado. no final serao exibido  todos os valores unicos digitados , em ordem crescente.   \n"
   ]
  },
  {
   "cell_type": "code",
   "execution_count": 13,
   "metadata": {},
   "outputs": [
    {
     "name": "stdout",
     "output_type": "stream",
     "text": [
      "Valor adicinado com sucesso.... \n",
      "Valor adicinado com sucesso.... \n",
      "Valor adicinado com sucesso.... \n",
      "Valor duplicado nao vou adicionar....\n",
      "Valor adicinado com sucesso.... \n",
      "-=-=-=-=-=-=-=-=-=-=-=-=-=-=-=-=-=-=-=-=-=-=-=-=-=-=-=-=-=-=\n",
      "Voce digitou os valores [5, 7, 8, 9]\n"
     ]
    }
   ],
   "source": [
    "numeros = list()\n",
    "while True:\n",
    "    n = int(input('digite um valor: '))\n",
    "    if n not in numeros:\n",
    "        numeros.append(n)\n",
    "        print('Valor adicinado com sucesso.... ')\n",
    "    else:\n",
    "        print('Valor duplicado nao vou adicionar....')\n",
    "    r = str(input('Quer continuar? [s/n] '))\n",
    "    if r in 'Nn':\n",
    "        break\n",
    "print('-='*30)\n",
    "numeros.sort()\n",
    "print(f'Voce digitou os valores {numeros}')"
   ]
  },
  {
   "cell_type": "markdown",
   "metadata": {},
   "source": [
    "# Desafio 80 \n",
    "crie um Programa  onde o usuario possa digitar  cinco valores numericos  e cadstre- os em uma lista , ja na posição correta  de inserção ( sem usar o sort) . No final mostre  a lista ordenada na tela \n",
    "\n"
   ]
  },
  {
   "cell_type": "code",
   "execution_count": 17,
   "metadata": {},
   "outputs": [
    {
     "name": "stdout",
     "output_type": "stream",
     "text": [
      "adicionado no finbal da lista ....\n",
      "adicionado no finbal da lista ....\n",
      "Adicionado  na posição 1\n",
      "Adicionado  na posição 1\n",
      "adicionado no finbal da lista ....\n",
      "-=-=-=-=-=-=-=-=-=-=-=-=-=-=-=-=-=-=-=-=-=-=-=-=-=-=-=-=-=-=\n",
      " os valores digitados em ordem  foram [1, 2, 2, 3, 9]\n"
     ]
    }
   ],
   "source": [
    "lista = []\n",
    "for c in range(0, 5):\n",
    "    n = int(input('digite um valor: '))\n",
    "    if c == 0 or n > lista[-1]:\n",
    "        lista.append(n)\n",
    "        print('adicionado no finbal da lista ....')\n",
    "    else:\n",
    "        pos = 0\n",
    "        while pos < len(lista):\n",
    "            if n<= lista[pos]:\n",
    "                 lista.insert(pos, n)\n",
    "                 print(f'Adicionado  na posição {pos}')\n",
    "                 break \n",
    "            pos += 1\n",
    "print ('-=' * 30)\n",
    "print(f' os valores digitados em ordem  foram {lista}')"
   ]
  },
  {
   "cell_type": "markdown",
   "metadata": {},
   "source": [
    "# Desafio 81 \n",
    "Crie um programa  que vai ler varios numeros e colocar em uma lista . Depois disso , mostre:\n",
    "- a) Qauntos numeros foram digitados \n",
    "- B) A lista de valores ordenadas  de forma decrescente\n",
    "- C) Se o valor 5 foi digitado  esta ou nao na lista "
   ]
  },
  {
   "cell_type": "code",
   "execution_count": 24,
   "metadata": {},
   "outputs": [
    {
     "name": "stdout",
     "output_type": "stream",
     "text": [
      "-=-=-=-=-=-=-=-=-=-=-=-=-=-=-=-=-=-=-=-=-=-=-=-=-=-=-=-=-=-=\n",
      "vc digitou  3 elementos \n",
      "os valores em ordem  decrecente sao [6, 2, 0]\n",
      " o valor 5 nao foi encontrado na lista \n"
     ]
    }
   ],
   "source": [
    "valores = []\n",
    "while True:\n",
    "    valores.append(int(input('Digite um valor: ')))\n",
    "    resp = str(input('Quer continuar ? [s/n] '))\n",
    "    if resp in 'Nn' :\n",
    "        break\n",
    "print('-='*30)\n",
    "print(f'vc digitou  {len(valores)} elementos ')\n",
    "valores.sort(reverse=True)\n",
    "print(f'os valores em ordem  decrecente sao {valores}')\n",
    "if 5 in valores:\n",
    "    print(' o valor 5 faz parte da lista')\n",
    "else:\n",
    "    print(' o valor 5 nao foi encontrado na lista ')\n",
    "\n",
    "\n"
   ]
  },
  {
   "cell_type": "markdown",
   "metadata": {},
   "source": [
    "# Desafio 82\n",
    "Crie um programa  que vai ler varios numeros  e colocar em uma lista. Depois disso crie duas listas extras que vao conter apenas os valores  pares e os impares  digitados  respectivamentes.\n",
    "ao Final mostre o conteudo gerados "
   ]
  },
  {
   "cell_type": "code",
   "execution_count": 26,
   "metadata": {},
   "outputs": [
    {
     "name": "stdout",
     "output_type": "stream",
     "text": [
      "-=-=-=-=-=-=-=-=-=-=-=-=-=-=-=-=-=-=-=-=-=-=-=-=-=-=-=-=-=-=\n",
      " A lista completa é [5, 9, 2, 0, 4, 13, 87, 1201]\n",
      " A lista de pares é [2, 0, 4]\n",
      " A lista de impares é [5, 9, 13, 87, 1201]\n"
     ]
    }
   ],
   "source": [
    "num = list()\n",
    "pares = list()\n",
    "impares = list()\n",
    "while True:\n",
    "    num.append(int(input('Digite um numero: ')))\n",
    "    resp = str(input('quer continuar? [s/n] '))\n",
    "    if resp in 'Nn':\n",
    "        break\n",
    "for i, v in enumerate(num):\n",
    "    if v % 2 == 0:\n",
    "        pares.append(v)\n",
    "    elif v % 2 == 1:\n",
    "        impares.append(v)\n",
    "print('-='*30)\n",
    "print(f' A lista completa é {num}')\n",
    "print(f' A lista de pares é {pares}')\n",
    "print(f' A lista de impares é {impares}')"
   ]
  },
  {
   "cell_type": "markdown",
   "metadata": {},
   "source": [
    "# Desafio 83\n",
    "Crie um programa  onde o usuario digite  uma expressao  qualquer que use parenteses . Seu aplicativo devera  analisar  se a expressao  passada  esta com  os parenteses  abertos e fechados na ordem correta. \n"
   ]
  },
  {
   "cell_type": "code",
   "execution_count": 32,
   "metadata": {},
   "outputs": [
    {
     "name": "stdout",
     "output_type": "stream",
     "text": [
      "a+b(c-1))\n",
      " Sua expressao esta errada \n"
     ]
    }
   ],
   "source": [
    "expr = str(input(' Digite a espressao: '))\n",
    "print(expr)\n",
    "pilha = []\n",
    "for simb in expr:\n",
    "    if simb =='(':\n",
    "        pilha.append('(')\n",
    "    elif simb == ')':\n",
    "        if len(pilha) > 0:\n",
    "            pilha.pop()\n",
    "        else:\n",
    "            pilha.append(')')\n",
    "            break\n",
    "if len(pilha) == 0:\n",
    "    print( 'sua expressao esta valida !!')\n",
    "else:\n",
    "    print(' Sua expressao esta errada ')"
   ]
  }
 ],
 "metadata": {
  "kernelspec": {
   "display_name": "Python 3",
   "language": "python",
   "name": "python3"
  },
  "language_info": {
   "codemirror_mode": {
    "name": "ipython",
    "version": 3
   },
   "file_extension": ".py",
   "mimetype": "text/x-python",
   "name": "python",
   "nbconvert_exporter": "python",
   "pygments_lexer": "ipython3",
   "version": "3.12.3"
  }
 },
 "nbformat": 4,
 "nbformat_minor": 2
}
