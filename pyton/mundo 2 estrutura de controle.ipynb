{
 "cells": [
  {
   "cell_type": "markdown",
   "metadata": {},
   "source": [
    "# Extrutura de controle ( aula 12)\n",
    "estrutura condicional alinhada"
   ]
  },
  {
   "cell_type": "code",
   "execution_count": 8,
   "metadata": {},
   "outputs": [
    {
     "name": "stdout",
     "output_type": "stream",
     "text": [
      "Gustavo maria jessica pedro\n",
      "seu nome é normal\n",
      " Tenha um bom dia Gustavo maria jessica pedro \n"
     ]
    }
   ],
   "source": [
    "nome = str(input('Qaul é o seu nome'))\n",
    "print(nome)\n",
    "if nome == 'Gustavo':\n",
    "    print('que nome bonito')\n",
    "elif nome == 'pedro' or nome== 'maria' or nome== 'paulo':\n",
    "    print(' seu nome é bem popular no  brasil')\n",
    "elif nome in ' ana caludia jessica juliana ':\n",
    "    print(' que nome feminino belo vc tem ')\n",
    "else:\n",
    "    print('seu nome é normal')\n",
    "print(' Tenha um bom dia {} '.format(nome))\n"
   ]
  },
  {
   "cell_type": "markdown",
   "metadata": {},
   "source": [
    "# desafio 36\n",
    "escrevas um programa para aprovar um emprestimo bancario  paracompra de uma casa . o programa vai perguntAR o valor dacasa , o salario docomprador  e quantos ano ele vai pagar .\n",
    "calcule  o valor da prestação mensal sabendo que nao pode exceder 30%  senao sera negado o emprestimo"
   ]
  },
  {
   "cell_type": "code",
   "execution_count": 18,
   "metadata": {},
   "outputs": [
    {
     "name": "stdout",
     "output_type": "stream",
     "text": [
      " para pagar uma casa de 120000.00 em 10 anos a  prestação sera de 1000.00\n",
      " Emprestimo condedido !!!\n"
     ]
    }
   ],
   "source": [
    "casa = float(input('Valor da casa: R$ '))\n",
    "salario = float(input('Salario do comprador: R$'))\n",
    "anos = int(input('Quantos anos de financiamento? '))\n",
    "prestação = casa / (anos * 12 )\n",
    "minimo = salario * 30 /100\n",
    "print(' para pagar uma casa de {:.2f} em {} anos a  prestação sera de {:.2f}'. format(casa, anos, prestação))\n",
    "if prestação <= minimo:\n",
    "    print(' Emprestimo condedido !!!')\n",
    "else:\n",
    "    print(' EMPRESTIMO NEGADO')"
   ]
  },
  {
   "cell_type": "markdown",
   "metadata": {},
   "source": []
  },
  {
   "cell_type": "markdown",
   "metadata": {},
   "source": [
    "# Desafio 37\n",
    "escreva um programa que leia um numero inteiro qualquer e peça para o usuario  escolher qual sera a base  de conversao:\n",
    "1 para binario\n",
    "2 para octal\n",
    "3 para hexadecimal\n",
    "\n"
   ]
  },
  {
   "cell_type": "code",
   "execution_count": 9,
   "metadata": {},
   "outputs": [
    {
     "name": "stdout",
     "output_type": "stream",
     "text": [
      " escolha umadas bases para conversao:\n",
      "      1 para binario \n",
      "      2 para octal\n",
      "      3 para hexadecimal \n",
      "10 convertido para  octal é igual 0o12\n"
     ]
    }
   ],
   "source": [
    "num = int(input('Digite um numero inteiro:'))\n",
    "print( ''' escolha umadas bases para conversao:\n",
    "      1 para binario \n",
    "      2 para octal\n",
    "      3 para hexadecimal ''')\n",
    "opção = int(input('sua opção: '))\n",
    "if opção == 1:\n",
    "    print('{} convertido para binario é igual á {} ou abreviado {}' . format(num, bin(num),  bin(num)[2:]))\n",
    "elif opção == 2:\n",
    "    print('{} convertido para  octal é igual {}' .format(num, oct(num)))\n",
    "elif opção == 3:\n",
    "    print('{} convertido para hexadecimal é igual a {}'.format(num, hex(num)))\n",
    "else:\n",
    "    print('opção invalida ! tente novamente')"
   ]
  },
  {
   "cell_type": "markdown",
   "metadata": {},
   "source": [
    "# Desafio 38\n",
    "escreva um programa que leia dois numeros inteiros  e compare- os mostrando na tela uma mensagem:\n",
    "- o primeiro valor é maior \n",
    "- o segundo valor  é maior\n",
    "- nao existe vaalor maior os dois sao iguais "
   ]
  },
  {
   "cell_type": "code",
   "execution_count": 12,
   "metadata": {},
   "outputs": [
    {
     "name": "stdout",
     "output_type": "stream",
     "text": [
      " os dois valores sao iguais \n"
     ]
    }
   ],
   "source": [
    "n1 = int(input(' Primeiro numero: '))\n",
    "n2 = int(input('Segundo numero:'))\n",
    "if n1 > n2 :\n",
    "    print( ' O primeiro valor é maior !!')\n",
    "elif n2 > n1 :\n",
    "    print( ' O segundo é maior!!!')\n",
    "else:\n",
    "    print(' os dois valores sao iguais ')"
   ]
  },
  {
   "cell_type": "markdown",
   "metadata": {},
   "source": [
    "# Desafio 39 \n",
    "faça um programa que leia  oano de nascimento  de um jovem e informw  de acordo com a sua idade :\n",
    " ele ainda vai se alistar ao serviço militar\n",
    "- se é a hora de se alistar\n",
    "- se ja passou do tempo do alistamento\n",
    "devera mostrar tembem o tempo que falta  ou que passou o prazo "
   ]
  },
  {
   "cell_type": "code",
   "execution_count": 19,
   "metadata": {},
   "outputs": [
    {
     "name": "stdout",
     "output_type": "stream",
     "text": [
      " Quem nasceu em 2005 tem 19 anos em 2024\n",
      " vc ja deveria ter se alistado ha 1 anos \n",
      " seu alistamento foi em 2023\n"
     ]
    }
   ],
   "source": [
    "from datetime import date\n",
    "atual = date.today().year\n",
    "nasc = int(input(' Ano de nascimento: '))\n",
    "idade = atual - nasc\n",
    "print( ' Quem nasceu em {} tem {} anos em {}' .format(nasc, idade, atual))\n",
    "if idade == 18:\n",
    "    print(' Voce tem que se alistar imediatamente !!!')\n",
    "elif idade < 18 :\n",
    "    saldo = 18 - idade\n",
    "    print('Ainda falta {} anos para o listamento ' . format(saldo))\n",
    "    ano = atual + saldo\n",
    "    print(' seu alistamento sera em {}'.format(ano))\n",
    "elif idade >18:\n",
    "    saldo = idade - 18\n",
    "    print(' vc ja deveria ter se alistado ha {} anos '.format(saldo))\n",
    "    ano = atual - saldo\n",
    "    print(' seu alistamento foi em {}' .format(ano))"
   ]
  },
  {
   "cell_type": "markdown",
   "metadata": {},
   "source": [
    "# Desafio 40\n",
    "Crie um progrtam que leia duas notas de um aluno e calcule sua media , mostrando umna mensagem no final , de acordO  com a media atingida:\n",
    " - media bixa de 5.0: reprovado\n",
    " - media entre 5.0 e 6.9 recuperação\n",
    "-  media 7 ou superior :aprovado"
   ]
  },
  {
   "cell_type": "code",
   "execution_count": 8,
   "metadata": {},
   "outputs": [
    {
     "name": "stdout",
     "output_type": "stream",
     "text": [
      " tirando 5.0 e 6.0 a media é 5.5\n",
      " aluno esta em recuperação\n"
     ]
    }
   ],
   "source": [
    "nota1 = float(input(' primeira nota: '))\n",
    "nota2 = float(input( 'segunda nota: '))\n",
    "media = (nota1 + nota2) / 2\n",
    "print(' tirando {:.1f} e {:.1F} a media é {:.1f}' .format(nota1, nota2, media))\n",
    "if media >= 5 and media <7:\n",
    "    print(' aluno esta em recuperação')\n",
    "elif media < 5:\n",
    "    print(' aluno esta reprovado ')\n",
    "else :\n",
    "    media >=7\n",
    "    print(' o aluno esta aprovado:')\n",
    "\n"
   ]
  },
  {
   "cell_type": "markdown",
   "metadata": {},
   "source": [
    "# Desafio 41\n",
    "A confederação nacional de natação precisa de um programa que leia  o ano de nascimento  de um atleta  e mostre sua categoria , de acordocom a idade:\n",
    "- ate 9 anos: mirim\n",
    "- ate 14 anos : infantil\n",
    "- ate 19 anos : junior\n",
    "- ate 20 anos : senior\n",
    "- acima : master\n"
   ]
  },
  {
   "cell_type": "code",
   "execution_count": 12,
   "metadata": {},
   "outputs": [
    {
     "name": "stdout",
     "output_type": "stream",
     "text": [
      "o atleta tem 34\n",
      "classificação : master\n"
     ]
    }
   ],
   "source": [
    "from datetime import date\n",
    "atual = date.today().year\n",
    "nascimento = int(input(' ano de nascimento: '))\n",
    "idade = atual - nascimento\n",
    "print( 'o atleta tem {}' .format(idade))\n",
    "if idade <= 9:\n",
    "    print(' classificação :Mirim')\n",
    "elif idade <=14:\n",
    "    print(' classificação : infantil')\n",
    "elif idade <=19:\n",
    "    print('classificação :junior')\n",
    "elif idade <=25:\n",
    "    print(' classificação: senior')\n",
    "else:\n",
    "    print('classificação : master')\n"
   ]
  },
  {
   "cell_type": "markdown",
   "metadata": {},
   "source": [
    "# Desafio 42\n",
    "refaça o desafio 35  dos triangulos , acrescentando  o recurso de mostrar que tipo de triangulo sera formado :\n",
    "- equilatero: todos os lados iguais\n",
    "- isosceles:  dois lados iguais\n",
    "- escaleno : todos os lados diferentes "
   ]
  },
  {
   "cell_type": "code",
   "execution_count": 25,
   "metadata": {},
   "outputs": [
    {
     "name": "stdout",
     "output_type": "stream",
     "text": [
      " os segmentos acimas podem formar triangulos!  isosceles\n"
     ]
    }
   ],
   "source": [
    "r1 = float(input(' primeiro segmento: '))\n",
    "r2 = float(input('segundo segmento '))\n",
    "r3 = float(input(' terceiro segmento: '))\n",
    "if r1 < r2 + r3 and r2 < r1 + r3 and r3 < r1 + r2:\n",
    "    print(' os segmentos acimas podem formar triangulos! ', end='')\n",
    "    if r1 == r2 == r3:\n",
    "        print('EQUILATERO')\n",
    "    elif r1 != r2 != r3 != r1:\n",
    "        print( ' escaleno')\n",
    "    else:\n",
    "        print( ' isosceles')\n",
    "else:\n",
    "    print(' os segmwentos acima nao podem formar triangulos !!!')\n"
   ]
  },
  {
   "cell_type": "markdown",
   "metadata": {},
   "source": [
    "# Desafio 43\n",
    "Desenvolva uma logica que leia o peso e a altura  de uma pessoa , calcule seu IMC e mostre seu estatus de acordo com a tabela abaixo:\n",
    "- abaixo de 18.5 : abaixo do peso\n",
    "- entre 18.5 e 25 : peso ideal \n",
    "- 25 ate 30 : sobre peso \n",
    "- 30 ate 40 : obesidade\n",
    "- acima de 40 : obesidade morbida \n"
   ]
  },
  {
   "cell_type": "code",
   "execution_count": 41,
   "metadata": {},
   "outputs": [
    {
     "name": "stdout",
     "output_type": "stream",
     "text": [
      " o IMC dessa pessoa é 36.2\n",
      "  vcesta em obesidade, cuidado!!!\n"
     ]
    }
   ],
   "source": [
    "peso = float(input('Qual é o seu peso (kg): '))\n",
    "altura = float(input(' qual  a sua altura (m):'))\n",
    "imc = peso / (altura ** 2 )\n",
    "print(' o IMC dessa pessoa é {:.1f}'.format(imc))\n",
    "if imc <18.5:\n",
    "    print('voce esta abaixo do seu peso normal')\n",
    "elif imc >= 18.5 and imc < 25:\n",
    "    print(' parabens vc esta na faixa de peso normal')\n",
    "elif 25 <= imc <30 :\n",
    "    print(' vcesta em sobrepeso')\n",
    "elif 30 <= imc < 40:\n",
    "    print('  vcesta em obesidade, cuidado!!!')\n",
    "else:\n",
    "    imc >= 40\n",
    "    print(' vcesta em obesidade  morbida . cuidado ')\n"
   ]
  },
  {
   "cell_type": "markdown",
   "metadata": {},
   "source": [
    "# Desafio 44\n",
    "Elabore um programa  que calcule o valor  a ser pago  por um produto  considerando  o seu preço normal  e condição de pagamento:\n",
    "- a vista dinheiro /cheque; 10% dedesconto\n",
    "- a vista cartao : 5% de desconto\n",
    "- em ate 2 vezes no cartao : preço normal \n",
    "- 3 x ou mais  no cartao : 20%  de juros \n",
    "\n"
   ]
  },
  {
   "cell_type": "code",
   "execution_count": 59,
   "metadata": {},
   "outputs": [
    {
     "name": "stdout",
     "output_type": "stream",
     "text": [
      "============ESCUDERO PORRETA============\n",
      " formas de pagamentos:\n",
      "[1] a vista dinheiro ou cheque\n",
      "[2] a vista cartao \n",
      "[3] 2x no carttao \n",
      "[4] 3x ou masi no cartao \n",
      "sua opção de pagamento foi 6\n",
      " OPÇÃO DE PAGAMENTO INVALIDA . TENTE NOVAMENTE\n",
      " sua compra de 2000.00 vai custa R$2000.00 no final\n"
     ]
    }
   ],
   "source": [
    "print('{:=^40}'.format('ESCUDERO PORRETA'))\n",
    "preço = float(input(' preço das compras : R$ '))\n",
    "print(''' formas de pagamentos:\n",
    "[1] a vista dinheiro ou cheque\n",
    "[2] a vista cartao \n",
    "[3] 2x no carttao \n",
    "[4] 3x ou masi no cartao ''')\n",
    "opção = int(input(' qual é a opção ?'))\n",
    "print('sua opção de pagamento foi {}'.format(opção))\n",
    "if opção ==1:\n",
    "    total = preço - (preço * 10 /100)\n",
    "elif opção == 2 :\n",
    "    total = preço - (preço * 5 /100)\n",
    "elif opção == 3:\n",
    "    total = preço\n",
    "    parcela = total / 2\n",
    "    print(' sua compra sera parcela em 2x de R${:.2f}'. format(parcela))\n",
    "elif opção == 4:\n",
    "    total = preço + (preço * 20 / 100)\n",
    "    totparc = int(input('quantas parcelas?'))\n",
    "    parcela = total / totparc\n",
    "    print(' Sua compra  sera parcelada em {}x de R${:.2f} COM JUROS'.format(totparc, parcela))\n",
    "else:\n",
    "    total = preço\n",
    "    print( ' OPÇÃO DE PAGAMENTO INVALIDA . TENTE NOVAMENTE')\n",
    "print(' sua compra de {:.2f} vai custa R${:.2F} no final'. format(preço, total))\n",
    "\n",
    "     \n",
    "  \n"
   ]
  },
  {
   "cell_type": "markdown",
   "metadata": {},
   "source": [
    "# Desafio 45\n",
    "Crie um programa que jogue jokempo com voce."
   ]
  },
  {
   "cell_type": "code",
   "execution_count": 11,
   "metadata": {},
   "outputs": [
    {
     "name": "stdout",
     "output_type": "stream",
     "text": [
      "Suas opçoes:\n",
      "[0] pedra\n",
      "[1] papel\n",
      "[2] tesoura \n",
      "JO\n",
      "KEn\n",
      "PO !!!!!\n",
      "-=-=-=-=-=-=-=-=-=-=-=\n",
      "computador jogou tesoura\n",
      "jogador jogou papel\n",
      "-=-=-=-=-=-=-=-=-=-=-=\n",
      "computador vence \n"
     ]
    }
   ],
   "source": [
    "from random import randint\n",
    "from time import sleep\n",
    "itens = ('pedra', 'papel', 'tesoura')\n",
    "computador = randint(0, 2)\n",
    "#print(' o computador escolheu {}'.format(itens[computador])) para fazer o teste\n",
    "print('''Suas opçoes:\n",
    "[0] pedra\n",
    "[1] papel\n",
    "[2] tesoura ''')\n",
    "jogador = int(input(' qual é a sua jogada? '))\n",
    "print('JO')\n",
    "sleep(1)\n",
    "print('KEn')\n",
    "sleep(1)\n",
    "print('PO !!!!!')\n",
    "sleep(1)\n",
    "print('-=' * 11)\n",
    "print('computador jogou {}' .format(itens[computador]))\n",
    "print('jogador jogou {}'.format(itens[jogador]))\n",
    "print('-=' * 11)\n",
    "if computador == 0: \n",
    "    if jogador == 0:\n",
    "        print('empate')\n",
    "\n",
    "    elif jogador == 1:\n",
    "        print('jogador vence')\n",
    "    elif jogador == 2:\n",
    "        print('computadorvemce')\n",
    "    else:\n",
    "        print ('jogada invalida')\n",
    "elif computador == 1: \n",
    "     if jogador == 0:\n",
    "         print('computador vcence')\n",
    "     elif jogador == 1:\n",
    "            print('empate') \n",
    "     elif jogador == 2:\n",
    "        print('jogador vence')\n",
    "     else:\n",
    "        print ('jogada invalida')\n",
    "elif computador == 2:\n",
    "     if jogador == 0:\n",
    "        print('jogador vence')\n",
    "     elif jogador == 1:\n",
    "           print('computador vence ')\n",
    "     elif jogador == 2:\n",
    "        print('empate')\n",
    "     else:\n",
    "        print ('jogada invalida')\n"
   ]
  }
 ],
 "metadata": {
  "kernelspec": {
   "display_name": "Python 3",
   "language": "python",
   "name": "python3"
  },
  "language_info": {
   "codemirror_mode": {
    "name": "ipython",
    "version": 3
   },
   "file_extension": ".py",
   "mimetype": "text/x-python",
   "name": "python",
   "nbconvert_exporter": "python",
   "pygments_lexer": "ipython3",
   "version": "3.12.3"
  }
 },
 "nbformat": 4,
 "nbformat_minor": 2
}
