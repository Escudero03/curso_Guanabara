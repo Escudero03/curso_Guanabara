{
 "cells": [
  {
   "cell_type": "markdown",
   "metadata": {},
   "source": [
    "# Dicionarios - aula 19"
   ]
  },
  {
   "cell_type": "code",
   "execution_count": 5,
   "metadata": {},
   "outputs": [
    {
     "name": "stdout",
     "output_type": "stream",
     "text": [
      "0 gustavo tem 22 anos. \n",
      "dict_keys(['nome', 'sexo', 'idade'])\n",
      "dict_values(['gustavo', 'M', 22])\n",
      "dict_items([('nome', 'gustavo'), ('sexo', 'M'), ('idade', 22)])\n",
      "nome = gustavo\n",
      "sexo = M\n",
      "idade = 22\n"
     ]
    }
   ],
   "source": [
    "pessoas = {'nome': 'gustavo', 'sexo': 'M', 'idade': 22}\n",
    "print(f'0 {pessoas[\"nome\"]} tem {pessoas[\"idade\"]} anos. ')\n",
    "print(pessoas.keys())\n",
    "print(pessoas.values())\n",
    "print(pessoas.items())\n",
    "for k, v in pessoas.items():\n",
    "    print(f'{k} = {v}')\n"
   ]
  },
  {
   "cell_type": "code",
   "execution_count": 9,
   "metadata": {},
   "outputs": [
    {
     "name": "stdout",
     "output_type": "stream",
     "text": [
      "nome = leandro\n",
      "sexo = M\n",
      "idade = 22\n",
      "peso = 98.5\n"
     ]
    }
   ],
   "source": [
    "pessoas = {'nome': 'gustavo', 'sexo': 'M', 'idade': 22}\n",
    "pessoas['nome'] = 'leandro' # trocadando o nome \n",
    "pessoas ['peso'] = 98.5 # adicionando  o peso \n",
    "for k, v in pessoas.items():\n",
    "    print(f'{k} = {v}')"
   ]
  },
  {
   "cell_type": "code",
   "execution_count": 14,
   "metadata": {},
   "outputs": [
    {
     "name": "stdout",
     "output_type": "stream",
     "text": [
      "[{'uf': 'rio de janeiro', 'sigla': 'RJ'}, {'uf': 'Sao Paulo', 'sigla': 'SP'}]\n",
      "{'uf': 'rio de janeiro', 'sigla': 'RJ'}\n",
      "{'uf': 'Sao Paulo', 'sigla': 'SP'}\n",
      "{'uf': 'rio de janeiro', 'sigla': 'RJ'}\n",
      "{'uf': 'Sao Paulo', 'sigla': 'SP'}\n"
     ]
    }
   ],
   "source": [
    "# criando dicionario dentro de uma lista\n",
    "brasil =[]\n",
    "estado1 = {'uf': 'rio de janeiro', 'sigla': 'RJ'}\n",
    "estado2 = {'uf': 'Sao Paulo', 'sigla': 'SP'}\n",
    "brasil.append(estado1)\n",
    "brasil.append(estado2)\n",
    "\n",
    "print(brasil)\n",
    "print(estado1)\n",
    "print(estado2)\n",
    "print(brasil[0])\n",
    "print(brasil[1])\n"
   ]
  },
  {
   "cell_type": "code",
   "execution_count": 15,
   "metadata": {},
   "outputs": [
    {
     "name": "stdout",
     "output_type": "stream",
     "text": [
      "[{'uf': 'sp', 'sigla': 'sp'}, {'uf': 'minas', 'sigla': 'mg'}, {'uf': 'acre', 'sigla': 'ac'}]\n"
     ]
    }
   ],
   "source": [
    "estado = dict()\n",
    "brasil = list()\n",
    "for c in range(0, 3):\n",
    "    estado['uf'] = str(input('unidade dederatriva: '))\n",
    "    estado['sigla'] = str(input('sigla do estado: '))\n",
    "    brasil.append(estado.copy())\n",
    "print(brasil)"
   ]
  },
  {
   "cell_type": "markdown",
   "metadata": {},
   "source": [
    "# Desafio 90 \n",
    "Faça um programa qie leia o nome e a media  de um aluno, guardando  tambem a situação  em um dicionario. No final mostre o conteudo  da estrutura na  tela."
   ]
  },
  {
   "cell_type": "code",
   "execution_count": 18,
   "metadata": {},
   "outputs": [
    {
     "name": "stdout",
     "output_type": "stream",
     "text": [
      "nome é igual a paulo\n",
      "media é igual a 6.0\n",
      "situação  é igual a recuperação\n"
     ]
    }
   ],
   "source": [
    "aluno = dict()\n",
    "aluno['nome'] = str(input('nome: '))\n",
    "aluno['media']= float(input(f'media de {aluno[\"nome\"]}: '))\n",
    "if aluno['media'] >= 7:\n",
    "    aluno['situação '] = 'aprovado'\n",
    "elif 5 <= aluno['media'] < 7:\n",
    "    aluno['situação '] = 'recuperação'\n",
    "else:\n",
    "    aluno['situação '] = 'reprovado'\n",
    "for k, v in aluno.items():\n",
    "    print(f'{k} é igual a {v}')"
   ]
  },
  {
   "cell_type": "markdown",
   "metadata": {},
   "source": [
    "# Desafio 91\n",
    "Crie um programa  onde 4 jogadores  joquem um dado e tenha resultados aleatorios. Guarde essews resultados  em um dicionario. No final coloque essa dicionario  em ordem , sabendo que o vencedor tirou o meior numero no dado.  "
   ]
  },
  {
   "cell_type": "code",
   "execution_count": 35,
   "metadata": {},
   "outputs": [
    {
     "name": "stdout",
     "output_type": "stream",
     "text": [
      "valores sorteados\n",
      "Paulo tirou 5 no dado \n",
      "jose tirou 4 no dado \n",
      "carlos tirou 1 no dado \n",
      "thiago tirou 6 no dado \n",
      "=-=-=-=-=-=-=-=-=-=-=-=-=-=-=-=-=-=-=-=-=-=-=-=-=-=-=-=-=-=-\n",
      "RANKING DOS JOGADORES \n",
      "1° lugar : thiago com 6\n",
      "2° lugar : Paulo com 5\n",
      "3° lugar : jose com 4\n",
      "4° lugar : carlos com 1\n"
     ]
    }
   ],
   "source": [
    "from random import randint\n",
    "from time import sleep\n",
    "from operator import itemgetter\n",
    "jogo = {'Paulo': randint(1, 6),\n",
    "        'jose': randint(1, 6),\n",
    "        'carlos': randint(1, 6),\n",
    "        'thiago': randint(1, 6)}\n",
    "ranking = list()\n",
    "print('valores sorteados')\n",
    "for k, v in jogo.items():\n",
    "    print(f'{k} tirou {v} no dado ')\n",
    "    sleep(1)\n",
    "ranking = sorted(jogo.items(), key=itemgetter(1), reverse=True)\n",
    "print('=-'*30)\n",
    "print(  'RANKING DOS JOGADORES ')\n",
    "for i, v in enumerate(ranking):\n",
    "    print(f'{i+1}° lugar : {v[0]} com {v[1]}')\n",
    "    sleep(1)"
   ]
  },
  {
   "cell_type": "markdown",
   "metadata": {},
   "source": [
    "# Desafio 92\n",
    "Crie um programa que leia nome, ano de nascimento  e carteira de trabalho  e cadstre-o ( com idade ) em um dicionario  se por acaso a CTPS  for diferente do zero , o dicionario recebera  tambem o ano  dacontratação  e o salario . Calcule  e acrescente , alem da idade, com quantos anos a pessoa vai se aposentar"
   ]
  },
  {
   "cell_type": "code",
   "execution_count": 41,
   "metadata": {},
   "outputs": [
    {
     "name": "stdout",
     "output_type": "stream",
     "text": [
      "-=-=-=-=-=-=-=-=-=-=-=-=-=-=-=-=-=-=-=-=-=-=-=-=-=-=-=-=-=-=\n",
      "- nome tem o valor jose\n",
      "- idade tem o valor 41\n",
      "- ctps tem o valor 3333\n",
      "- contratação tem o valor 2016\n",
      "- salario tem o valor 600.0\n",
      "- aposentadoria tem o valor 68\n"
     ]
    }
   ],
   "source": [
    "from datetime import datetime\n",
    "dados = dict()\n",
    "dados['nome'] = str(input('nome: '))\n",
    "nasc = int(input('ano de nascimento: '))\n",
    "dados['idade'] = datetime.now().year - nasc\n",
    "dados['ctps'] = int(input(' carteirade trabalho (0 nao tem): '))\n",
    "if dados ['ctps'] != 0:\n",
    "    dados['contratação'] = int(input('ano de contratação: '))\n",
    "    dados['salario'] = float(input('salario: R$'))\n",
    "    dados['aposentadoria'] = dados['idade'] + ((dados['contratação'] + 35) - datetime.now().year)\n",
    "print('-='*30)\n",
    "for k, v in dados.items():\n",
    "    print(f'- {k} tem o valor {v}' )"
   ]
  },
  {
   "cell_type": "markdown",
   "metadata": {},
   "source": [
    "# Desafio 93\n",
    "crie um programa que gerencie o aproveitamento de um jogador de futebol . O programa vai  ler o nome do jogador e quantas partidas ele jogou .Depois vae ler a quantidades de gol  feito em cada partida. No final , tudo isso sera guardado em um dicionario , incluindo o total de gols  feito durante o campeonato\n"
   ]
  },
  {
   "cell_type": "code",
   "execution_count": 51,
   "metadata": {},
   "outputs": [
    {
     "name": "stdout",
     "output_type": "stream",
     "text": [
      "{'nome': 'paulo', ' gols': [1, 9], 'total': 10}\n",
      "-=-=-=-=-=-=-=-=-=-=-=-=-=-=-=-=-=-=-=-=-=-=-=-=-=-=-=-=-=-=\n",
      " O campo nome tem o valor paulo \n",
      " O campo  gols tem o valor [1, 9] \n",
      " O campo total tem o valor 10 \n",
      "-=-=-=-=-=-=-=-=-=-=-=-=-=-=-=-=-=-=-=-=-=-=-=-=-=-=-=-=-=-=\n",
      "O jogador paulo jogou 2 partidas.\n",
      "   => Na partida 0, fez 1 gols. \n",
      "   => Na partida 1, fez 9 gols. \n",
      " Foi um total de 10 gols. \n"
     ]
    }
   ],
   "source": [
    "jogador = dict()\n",
    "partidas = list()\n",
    "jogador['nome'] = str(input('nome do jogador: '))\n",
    "tot = int(input(f' Qnantas partidas {jogador[\"nome\"]} jogou '))\n",
    "for c in range(0, tot):\n",
    "    partidas.append(int(input(f'   Quantos gols na partida {c}? ')))\n",
    "jogador[' gols'] = partidas[:]\n",
    "jogador['total'] = sum(partidas)\n",
    "print(jogador)\n",
    "print('-='*30)\n",
    "for k, v in jogador.items():\n",
    "    print(f' O campo {k} tem o valor {v} ')\n",
    "print('-='*30)\n",
    "print(f'O jogador {jogador[\"nome\"]} jogou {len(jogador [\" gols\"])} partidas.')\n",
    "for i, v in enumerate(jogador[\" gols\"]):\n",
    "    print(f'   => Na partida {i}, fez {v} gols. ')\n",
    "print(f' Foi um total de {jogador[\"total\"]} gols. ')"
   ]
  },
  {
   "cell_type": "markdown",
   "metadata": {},
   "source": [
    "# Desafio 94\n",
    "crie um programa que leia nome, idade, sexo de varias pessoas, guardadno os dados  de cada pessoa em um dicionario , e todos os dicionarios em uma lista .No final mostre : \n",
    "- a) Quantas pessoas foram cadastradas \n",
    "- b) A media de idade do grupo.\n",
    "- c) Uma lista com todas as mulheres\n",
    "- d) Uma lista com todas as pessoas com idade acima da media"
   ]
  },
  {
   "cell_type": "code",
   "execution_count": 13,
   "metadata": {},
   "outputs": [
    {
     "name": "stdout",
     "output_type": "stream",
     "text": [
      "-=-=-=-=-=-=-=-=-=-=-=-=-=-=-=-=-=-=-=-=-=-=-=-=-=-=-=-=-=-=\n",
      "A) ao todo temos 4 pessoas cadastradas \n",
      "B)A media de idade é de 20.25 anos. \n",
      "c) as mulheres cadastradas foram mariajoana\n",
      "d) lista de pessoas queestao acima da media: \n",
      "    \n",
      "nome = joanasexo = Fidade = 21\n",
      "<<<encerrado>>>>\n"
     ]
    }
   ],
   "source": [
    "galera = list()\n",
    "pessoa = dict()\n",
    "soma = media = 0 \n",
    "while True :\n",
    "    pessoa.clear()\n",
    "    pessoa['nome'] = str(input('nome: '))\n",
    "    while True:\n",
    "        pessoa['sexo'] = str(input('sexo: [M/F] ')).upper()[0]\n",
    "        if pessoa['sexo'] in 'MF':\n",
    "            break\n",
    "        print('erro!! por favor digite apenas  M ou F ')\n",
    "    pessoa['idade'] = int(input('idade: '))\n",
    "    soma += pessoa['idade']\n",
    "    galera.append(pessoa.copy())\n",
    "    while True:\n",
    "        resp = str(input('Quer continuar ? [S/N] ')).upper()[0]\n",
    "        if resp in 'SN':\n",
    "            break\n",
    "        print('erro !!! responmda apenas S ou N.  ')\n",
    "    if resp == 'N':\n",
    "        break\n",
    "print('-='*30)\n",
    "print(f'A) ao todo temos {len(galera)} pessoas cadastradas ')\n",
    "media = soma / len(galera)\n",
    "print(f'B)A media de idade é de {media:5.2f} anos. ')\n",
    "print('c) as mulheres cadastradas foram ', end='')\n",
    "for p in galera:\n",
    "    if p['sexo'] in 'Ff':\n",
    "        print(f'{p[\"nome\"]}', end='')\n",
    "print()\n",
    "print('d) lista de pessoas queestao acima da media: ')\n",
    "for p in galera:\n",
    "    if p['idade'] >= media:\n",
    "        print('    ')\n",
    "        for k, v in p.items():\n",
    "            print(f'{k} = {v}', end='')\n",
    "        print() \n",
    "print('<<<encerrado>>>>') "
   ]
  },
  {
   "cell_type": "markdown",
   "metadata": {},
   "source": [
    "# Desafio 95\n",
    "aprimore o desafio 93  para que ele funcione com varios jogadores . incluindo um sistema  de visualização  de detalhes  do aproveitamento  de cada jogador"
   ]
  },
  {
   "cell_type": "code",
   "execution_count": 22,
   "metadata": {},
   "outputs": [
    {
     "name": "stdout",
     "output_type": "stream",
     "text": [
      "-=-=-=-=-=-=-=-=-=-=-=-=-=-=-=-=-=-=-=-=-=-=-=-=-=-=-=-=-=-=\n",
      "codnome           gols           total          \n",
      "-=-=-=-=-=-=-=-=-=-=-=-=-=-=-=-=-=-=-=-=-=-=-=-=-=-=-=-=-=-=\n",
      "   0joao           [3, 2, 1]      6              \n",
      "   1jose           [3, 2, 4, 2, 43, 5]59             \n",
      "------------------------------\n",
      " erro!!! nao existe  jogador com codigo 3 !\n",
      "------------------------------------------------------------\n",
      " erro!!! nao existe  jogador com codigo 2 !\n",
      "------------------------------------------------------------\n",
      " ---- levantamento do jogado jose:\n",
      "     no jogo 1 fez 3 gols \n",
      "     no jogo 2 fez 2 gols \n",
      "     no jogo 3 fez 4 gols \n",
      "     no jogo 4 fez 2 gols \n",
      "     no jogo 5 fez 43 gols \n",
      "     no jogo 6 fez 5 gols \n",
      "------------------------------------------------------------\n",
      "..... volte .....\n"
     ]
    }
   ],
   "source": [
    "time = list()\n",
    "jogador = dict()\n",
    "partidas = list()\n",
    "while True:\n",
    "    jogador.clear()\n",
    "    jogador['nome'] = str(input('nome do jogador: '))\n",
    "    tot = int(input(f' Qnantas partidas {jogador[\"nome\"]} jogou '))\n",
    "    partidas.clear()\n",
    "    for c in range(0, tot):\n",
    "        partidas.append(int(input(f'    Quantos gols na partida {c+1}? ')))\n",
    "    jogador['gols'] = partidas[:]\n",
    "    jogador['total'] = sum(partidas)\n",
    "    time.append(jogador.copy())\n",
    "    while True:\n",
    "        resp = str(input('quer continuar? [S/N]')).upper()[0]\n",
    "        if resp in 'SN':\n",
    "            break\n",
    "        print(' Erro responda apenas S ou N')\n",
    "    if resp == 'N':\n",
    "        break\n",
    "print('-='*30)\n",
    "print('cod', end='')\n",
    "for i in jogador.keys():\n",
    "    print(f'{i:15}', end='')\n",
    "print()\n",
    "print('-='*30)\n",
    "for k, v in enumerate(time):\n",
    "    print(f'{k:>4}', end='')\n",
    "    for d in v.values():\n",
    "        print(f'{str(d):<15}', end='')\n",
    "    print()\n",
    "print('-'*30)\n",
    "while True:\n",
    "    busca = int(input('mostar dados de qual jogador ? (999 para parar)'))\n",
    "    if busca == 999:\n",
    "        break\n",
    "    if busca >= len(time):\n",
    "        print(f' erro!!! nao existe  jogador com codigo {busca} !')\n",
    "    else:\n",
    "        print(f' ---- levantamento do jogado {time[busca][\"nome\"]}:')\n",
    "        for i, g in enumerate(time[busca]['gols']):\n",
    "            print(f'     no jogo {i+1} fez {g} gols ')\n",
    "    print('--'*30)\n",
    "print('..... volte .....')\n",
    "\n",
    "\n"
   ]
  }
 ],
 "metadata": {
  "kernelspec": {
   "display_name": "Python 3",
   "language": "python",
   "name": "python3"
  },
  "language_info": {
   "codemirror_mode": {
    "name": "ipython",
    "version": 3
   },
   "file_extension": ".py",
   "mimetype": "text/x-python",
   "name": "python",
   "nbconvert_exporter": "python",
   "pygments_lexer": "ipython3",
   "version": "3.12.3"
  }
 },
 "nbformat": 4,
 "nbformat_minor": 2
}
