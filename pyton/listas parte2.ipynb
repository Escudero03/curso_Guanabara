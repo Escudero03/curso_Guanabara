{
 "cells": [
  {
   "cell_type": "markdown",
   "metadata": {},
   "source": [
    "# Listas - parte 2  Aula 18 \n",
    "listas composta"
   ]
  },
  {
   "cell_type": "code",
   "execution_count": 2,
   "metadata": {},
   "outputs": [
    {
     "name": "stdout",
     "output_type": "stream",
     "text": [
      "[['gustavo', 40], ['maria', 22]]\n"
     ]
    }
   ],
   "source": [
    "teste = list()\n",
    "teste.append('gustavo')\n",
    "teste.append(40)\n",
    "galera = list()\n",
    "galera.append(teste[:])\n",
    "teste[0] = 'maria'\n",
    "teste[1] = 22\n",
    "galera.append(teste[:])\n",
    "print(galera)"
   ]
  },
  {
   "cell_type": "code",
   "execution_count": 3,
   "metadata": {},
   "outputs": [
    {
     "name": "stdout",
     "output_type": "stream",
     "text": [
      "joao tem 19 anos de idade. \n",
      "ana tem 33 anos de idade. \n",
      "joaquim tem 13 anos de idade. \n",
      "maria tem 45 anos de idade. \n"
     ]
    }
   ],
   "source": [
    "galera = [['joao', 19], ['ana',33], ['joaquim', 13], ['maria',45] ]\n",
    "for p in galera:\n",
    "    print(f'{p[0]} tem {p[1]} anos de idade. ')"
   ]
  },
  {
   "cell_type": "code",
   "execution_count": 7,
   "metadata": {},
   "outputs": [
    {
     "name": "stdout",
     "output_type": "stream",
     "text": [
      "paulo é maior de idade. \n",
      "maria é menor de idade. \n",
      "cleiton é maior de idade. \n",
      "temos 2 maiores e 1 menores de idade\n"
     ]
    }
   ],
   "source": [
    "galera = list()\n",
    "dado = list()\n",
    "totmai = totmen = 0\n",
    "for c in range(0, 3):\n",
    "    dado.append(str(input('nome: ')))\n",
    "    dado.append(int(input('idade: ')))\n",
    "    galera.append(dado[:])\n",
    "    dado.clear()\n",
    "\n",
    "for p in galera:\n",
    "    if p[1] >= 21:\n",
    "        print(f'{p[0]} é maior de idade. ')\n",
    "        totmai += 1 \n",
    "    else:\n",
    "        print(f'{p[0]} é menor de idade. ')\n",
    "        totmen += 1\n",
    "print(f'temos {totmai} maiores e {totmen} menores de idade')"
   ]
  },
  {
   "cell_type": "markdown",
   "metadata": {},
   "source": [
    "# Desafio 84\n",
    "Faça um programa  que leia o nome e peso devarias pessoas, guardando tudo em uma lista . No final mostre:\n",
    "- a) quantas pessoas foram cadastradas\n",
    "- b) Uma listagem com as pessoas mais pesadas \n",
    "- c) uma listagem com as pessoas mais leves"
   ]
  },
  {
   "cell_type": "code",
   "execution_count": null,
   "metadata": {},
   "outputs": [],
   "source": []
  },
  {
   "cell_type": "code",
   "execution_count": 14,
   "metadata": {},
   "outputs": [
    {
     "name": "stdout",
     "output_type": "stream",
     "text": [
      "-=-=-=-=-=-=-=-=-=-=-=-=-=-=-=-=-=-=-=-=-=-=-=-=-=-=-=-=-=-=\n",
      "Os dados foram [['pailo', 100.0], ['maria', 25.0], ['joao', 36.0]]\n",
      "Ao todo vc cadstrou 3 pessoas. \n",
      "O maior peso foi 100.0kg. Peso de   pailo O menor peso foi  de 25.0kg.\n",
      "\n",
      "o menor peso  foi de25.0kg. Peso de maria\n"
     ]
    }
   ],
   "source": [
    "temp = []\n",
    "princ = []\n",
    "mai = men = 0 \n",
    "while True:\n",
    "    temp.append(str(input('Nome: ')))\n",
    "    temp.append(float(input('Peso: ')))\n",
    "    if len(princ) == 0:\n",
    "        mai = men  = temp [1]\n",
    "    else:\n",
    "        if temp[1] > mai:\n",
    "            mai = temp[1]\n",
    "        if temp [1] < men:\n",
    "            men = temp[1]\n",
    "    princ.append(temp[:])\n",
    "    temp.clear()\n",
    "    resp = str(input(' Quer continuar ? [s/n]'))\n",
    "    if resp in 'Nn':\n",
    "        break\n",
    "print('-='*30)\n",
    "print(f'Os dados foram {princ}')\n",
    "print(f'Ao todo vc cadstrou {len(princ)} pessoas. ')\n",
    "print(f'O maior peso foi {mai}kg. Peso de  ', end=' ')\n",
    "for p  in princ:\n",
    "    if p[1] == mai:\n",
    "        print(f'{p[0]}', end=' ')\n",
    "print(f'O menor peso foi de {men}kg.')\n",
    "print()\n",
    "print(f'o menor peso foi de{men}kg. Peso de ', end='')\n",
    "for p  in princ:\n",
    "    if p[1] == men:\n",
    "        print(f'{p[0]}', end='')\n",
    "print()"
   ]
  },
  {
   "cell_type": "markdown",
   "metadata": {},
   "source": [
    "# Desafio 85\n",
    "Crie um programa onde o usuario possa digitar  sete valores  numericos  e cadstre-os  em uma  lista unica  que mantenha separados  os valores pares  e impares . No final  mostre os valores  pares  e impares em ordem crescente.\n"
   ]
  },
  {
   "cell_type": "code",
   "execution_count": 17,
   "metadata": {},
   "outputs": [
    {
     "name": "stdout",
     "output_type": "stream",
     "text": [
      "-=--=--=--=--=--=--=--=--=--=--=--=--=--=--=--=--=--=--=--=--=--=--=--=--=--=--=--=--=--=-\n",
      "Todos os valores pares sao  [0, 10, 20, 50] \n",
      "Todos os valores imparessao  [1, 3, 363] \n"
     ]
    }
   ],
   "source": [
    "num = [[], []]\n",
    "valor = 0 \n",
    "for c in range(1, 8 ):\n",
    "    valor =  int(input('Digite o valor : '))\n",
    "    if valor % 2 == 0:\n",
    "        num[0].append(valor)\n",
    "    else:\n",
    "        num[1].append(valor)\n",
    "print('-=-'*30)\n",
    "num[0].sort()\n",
    "num[1].sort()\n",
    "print(f'Todos os valores pares sao  {num[0]} ')\n",
    "print(f'Todos os valores impares sao  {num[1]} ')\n",
    "                 "
   ]
  },
  {
   "cell_type": "markdown",
   "metadata": {},
   "source": [
    "# Desafio 86\n",
    "Crie um programa  que crie uma matriz  de dimensao 3x3  e preencha  com valores  lidos pelo teclado. No final mostre a matriz na tela com a formatação  correta."
   ]
  },
  {
   "cell_type": "code",
   "execution_count": 19,
   "metadata": {},
   "outputs": [
    {
     "name": "stdout",
     "output_type": "stream",
     "text": [
      "-=-=-=-=-=-=-=-=-=-=-=-=-=-=-=-=-=-=-=-=-=-=-=-=-=-=-=-=-=-=\n",
      "[1][2][3]\n",
      "[4][5][6]\n",
      "[7][8][9]\n"
     ]
    }
   ],
   "source": [
    "matriz = [[0, 0, 0], [0, 0, 0], [0, 0, 0]]\n",
    "for l in range(0, 3):\n",
    "    for c in range(0, 3):\n",
    "        matriz[l] [c] = int(input(f'digite um valor [{l}], [{c}]: '))\n",
    "print('-='*30)\n",
    "for l in range(0, 3):\n",
    "    for c in range (0, 3):\n",
    "        print(f'[{matriz [l] [c]}]', end='')\n",
    "    print()\n"
   ]
  },
  {
   "cell_type": "markdown",
   "metadata": {},
   "source": [
    "# Desafio 87\n",
    "Aprimore o desafio anterior, mostrando  no final :\n",
    "\n",
    "- a) A soma de todos os valores pares digitados.\n",
    "- b) A soma dos valores  da terceira coluna.\n",
    "- c) O maior valor da segunda linha"
   ]
  },
  {
   "cell_type": "code",
   "execution_count": 27,
   "metadata": {},
   "outputs": [
    {
     "name": "stdout",
     "output_type": "stream",
     "text": [
      "-=-=-=-=-=-=-=-=-=-=-=-=-=-=-=-=-=-=-=-=-=-=-=-=-=-=-=-=-=-=\n",
      "[1][2][3]\n",
      "[4][5][6]\n",
      "[7][8][9]\n",
      "-=-=-=-=-=-=-=-=-=-=-=-=-=-=-=-=-=-=-=-=-=-=-=-=-=-=-=-=-=-=\n",
      "A soma dos valores  pares é 20\n",
      "a soma dos valores da terceira coluna é 18\n",
      " o valor maior dasegunda linha é 6\n"
     ]
    }
   ],
   "source": [
    "matriz = [[0, 0, 0], [0, 0, 0], [0, 0, 0]]\n",
    "spar = maio = scol = 0\n",
    "for l in range(0, 3):\n",
    "    for c in range(0, 3):\n",
    "        matriz[l] [c] = int(input(f'digite um valor [{l}], [{c}]: '))\n",
    "print('-='*30)\n",
    "for l in range(0, 3):\n",
    "    for c in range (0, 3):\n",
    "        print(f'[{matriz [l] [c]}]', end='')\n",
    "        if matriz [l] [c] % 2 == 0:\n",
    "            spar += matriz [l] [c]\n",
    "    print()\n",
    "print('-='*30)\n",
    "print(f'A soma dos valores  pares é {spar}')\n",
    "for l in range(0, 3):\n",
    "    scol += matriz[l] [2]\n",
    "print(f'a soma dos valores da terceira coluna é {scol}')\n",
    "for c in range(0, 3):\n",
    "    if c == 0:\n",
    "        maio = matriz[1][c]\n",
    "    elif matriz[1][c] > maio:\n",
    "        maio = matriz[1][c]\n",
    "print(f' o valor maior dasegunda linha é {maio}')"
   ]
  },
  {
   "cell_type": "markdown",
   "metadata": {},
   "source": [
    "# Desafio 88\n",
    "Faça um progrma que ajude um jogador de mega sena  a criar palpites . O programa  vai perguntar  quantos jogos serao gerados  e vai sortear  6 numeros  entre  1 e 60  para cada jogo , cadastrando  tudo  em uma lista composta"
   ]
  },
  {
   "cell_type": "code",
   "execution_count": 7,
   "metadata": {},
   "outputs": [
    {
     "name": "stdout",
     "output_type": "stream",
     "text": [
      "-=-=-=-=-=-=-=-=-=-=-=-=-=-=-=-=-=-=-=-=-=-=-=-=-=-=-=-=-=-=\n",
      "          joga na mega sena       \n",
      "-=-=-=-=-=-=-=-=-=-=-=-=-=-=-=-=-=-=-=-=-=-=-=-=-=-=-=-=-=-=\n",
      "-=-=-= sorteando 2 jogos  -=-=-=\n",
      "jogo 1: [3, 6, 25, 42, 44, 52]\n",
      "jogo 2: [3, 6, 15, 20, 23, 25, 27, 42, 44, 50, 52, 53]\n",
      "jogo 3: [3, 6, 9, 12, 15, 20, 23, 25, 27, 36, 42, 43, 44, 50, 51, 52, 53, 57]\n"
     ]
    }
   ],
   "source": [
    "from random import randint\n",
    "lista = list()\n",
    "jogos = list()\n",
    "print('-='*30)\n",
    "print('          joga na mega sena       ')\n",
    "print('-=' *30)\n",
    "quant = int(input('Quantos jogos vc quer que eu sorteie? '))\n",
    "tot = 0\n",
    "while tot <= quant:\n",
    "    cont = 0\n",
    "    while True:\n",
    "        num = randint(1, 60)\n",
    "        if num not in lista:\n",
    "            lista.append(num)\n",
    "            cont += 1\n",
    "        if cont >= 6:\n",
    "            break\n",
    "    lista.sort()\n",
    "    jogos.append(lista[:])\n",
    "    lista.clear\n",
    "    tot += 1\n",
    "print('-=' * 3, f'sorteando {quant} jogos ', '-=' * 3)\n",
    "for i, l in enumerate(jogos):\n",
    "    print(f'jogo {i+1}: {l}')\n"
   ]
  },
  {
   "cell_type": "markdown",
   "metadata": {},
   "source": [
    "# Desafio 89 \n",
    "Crie um programa que leia  nome e duas notas  de varios alunos  e guarde  tudo em uma lista  composta. No final mostre  um boletim  contendo a media de cada um e permita que o usuario  possa  mostar  as notas  de cada aluno individualmente "
   ]
  },
  {
   "cell_type": "code",
   "execution_count": 5,
   "metadata": {},
   "outputs": [
    {
     "name": "stdout",
     "output_type": "stream",
     "text": [
      "-=-=-=-=-=-=-=-=-=-=-=-=-=-=-=-=-=-=-=-=-=-=-=-=-=-=-=-=-=-=\n",
      "ficha\n",
      "No  NOME         MEDIA\n",
      "--------------------------\n",
      "0   pppp           2.5\n",
      "1   7              7.0\n",
      "2   ana            1.5\n",
      "-----------------------------------\n",
      "notas de pppp sao [2.0, 3.0]\n",
      "-----------------------------------\n",
      "notas de 7 sao [9.0, 5.0]\n",
      "-----------------------------------\n",
      "notas de ana sao [2.0, 1.0]\n",
      "-----------------------------------\n",
      "notas de 7 sao [9.0, 5.0]\n",
      "-----------------------------------\n",
      " finalizando....\n",
      " <<<volte sempre <<<<\n"
     ]
    }
   ],
   "source": [
    "ficha = list()\n",
    "while True:\n",
    "    nome = str(input('nome: '))\n",
    "    nota1 = float(input('nota 1: '))\n",
    "    nota2 = float(input('nota2: '))\n",
    "    media = (nota1 + nota2) / 2\n",
    "    ficha.append([nome, [nota1, nota2], media])\n",
    "    resp = str(input('Quer continuar ?[s/n] '))\n",
    "    if resp in 'Nn':\n",
    "        break\n",
    "print('-=' * 30)\n",
    "print('ficha')\n",
    "print(f'{\"No\":<4}{\"NOME\":<10}{\"MEDIA\":>8}')\n",
    "print('-'*26)\n",
    "for i, a in enumerate(ficha):\n",
    "    print(f'{i:<4}{a[0]:<10}{a[2]:>8.1f}')\n",
    "while True:\n",
    "    print('-'*35)\n",
    "    opc = int(input('mostrar notas de qual aluno ? (999 interrompe): '))\n",
    "    if opc == 999:\n",
    "        print(' finalizando....')\n",
    "        break\n",
    "    if opc <= len(ficha) -1:\n",
    "        print(f'notas de {ficha[opc][0]} sao {ficha[opc][1]}')\n",
    "print(' <<<volte sempre <<<<')"
   ]
  }
 ],
 "metadata": {
  "kernelspec": {
   "display_name": "Python 3",
   "language": "python",
   "name": "python3"
  },
  "language_info": {
   "codemirror_mode": {
    "name": "ipython",
    "version": 3
   },
   "file_extension": ".py",
   "mimetype": "text/x-python",
   "name": "python",
   "nbconvert_exporter": "python",
   "pygments_lexer": "ipython3",
   "version": "3.12.3"
  }
 },
 "nbformat": 4,
 "nbformat_minor": 2
}
